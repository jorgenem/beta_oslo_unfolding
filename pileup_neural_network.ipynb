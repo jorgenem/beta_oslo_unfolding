{
 "cells": [
  {
   "cell_type": "markdown",
   "metadata": {},
   "source": [
    "I am testing using a neural network to recognise patterns in the pileup spectra, so that we can revert from a piled-up 1-D spectrum to the underlying 2-D spectrum. First I simulate pairs of piled, original spectra, then I make the network."
   ]
  },
  {
   "cell_type": "code",
   "execution_count": 2,
   "metadata": {},
   "outputs": [],
   "source": [
    "from importlib import reload\n",
    "from utilities import *\n",
    "import numpy as np\n",
    "import matplotlib.pyplot as plt\n",
    "from matplotlib.colors import LogNorm"
   ]
  },
  {
   "cell_type": "markdown",
   "metadata": {},
   "source": [
    "# Simulate spectra. \n",
    "Assume only multiplicity 2, and set the pileup probability to 1 for this test. \n",
    "Later we must check how an energy-dependent pileup probability affects things."
   ]
  },
  {
   "cell_type": "code",
   "execution_count": 3,
   "metadata": {},
   "outputs": [],
   "source": [
    "# Set some global variables:\n",
    "N_events = int(30*1e3)\n",
    "customLogNorm = LogNorm(vmin=1e0, vmax=N_events)\n",
    "np.random.seed(124356)"
   ]
  },
  {
   "cell_type": "code",
   "execution_count": 4,
   "metadata": {},
   "outputs": [],
   "source": [
    "# Import response matrix\n",
    "\n",
    "fname_resp = 'resp-SuN2015-20keV-1p0FWHM.dat'\n",
    "fname_resp_mat = 'response_matrix-SuN2015-20keV-1p0FWHM.m'\n",
    "# fname_resp = 'resp-SuN2015-50keV-1p0FWHM.dat'\n",
    "# fname_resp_mat = 'response_matrix-SuN2015-50keV-1p0FWHM.m'\n",
    "R_2D, cal_resp, E_resp_array, tmp = read_mama_2D(fname_resp_mat)\n",
    "# R_2D = div0(R_2D , R_2D.sum(rebin_axis=1))\n",
    "\n",
    "# Read efficiency and other 1-D response variables:\n",
    "resp = []\n",
    "with open(fname_resp) as file:\n",
    "    # Read line by line as there is crazyness in the file format\n",
    "    lines = file.readlines()\n",
    "    for i in range(4,len(lines)):\n",
    "        try:\n",
    "            row = np.array(lines[i].split(), dtype=\"double\")\n",
    "            resp.append(row)\n",
    "        except:\n",
    "            break\n",
    "\n",
    "resp = np.array(resp)\n",
    "# Name the columns for ease of reading\n",
    "# FWHM = resp[:,1]\n",
    "eff = resp[:,2]\n",
    "# pf = resp[:,3]\n",
    "# pc = resp[:,4]\n",
    "# ps = resp[:,5]\n",
    "# pd = resp[:,6]\n",
    "# pa = resp[:,7]\n",
    "\n",
    "\n",
    "\n",
    "Emax = 4000 # Crop response matrix (and thus also event generation) to efficiate computation\n",
    "i_Emax = np.argmin(np.abs(E_resp_array-Emax))\n",
    "R_2D = R_2D[0:i_Emax,0:i_Emax]\n",
    "E_resp_array = E_resp_array[0:i_Emax]\n",
    "\n",
    "\n",
    "\n",
    "# Assumed lower threshold for gammas in response matrix\n",
    "E_thres = 100\n",
    "i_thres = np.argmin(np.abs(E_resp_array - E_thres))\n",
    "R_2D[:,:i_thres] = 0\n",
    "\n",
    "for i in range(R_2D.shape[0]):\n",
    "    norm = R_2D[i,:].sum()\n",
    "    if(norm>0):\n",
    "        R_2D[i,:] = R_2D[i,:] / norm #* eff[i]\n",
    "    else:\n",
    "        R_2D[i,:] = 0"
   ]
  },
  {
   "cell_type": "code",
   "execution_count": 8,
   "metadata": {},
   "outputs": [],
   "source": [
    "# === Folding function for a single event ===\n",
    "def FoldEg(Egs_t, Mf_max, Eg_arr, response, pileup=True, p_pile=0.2):\n",
    "    \"\"\"\n",
    "    This function folds all Egs from a single event.\n",
    "    \"\"\"\n",
    "\n",
    "    \n",
    "    # print(\"Folding. True gammas =\", Egs_t, flush=True)\n",
    "    Mt_curr = len(Egs_t[Egs_t>0]) # Number of true gammas\n",
    "\n",
    "    \n",
    "    Mf_curr = Mt_curr # Folded multiplicity is the same as true because we do pileup after energy folding\n",
    "\n",
    "    # Now proceed to fold each gamma with detector response:\n",
    "    Egs_folded = np.zeros(Mf_curr)\n",
    "    for i in range(Mf_curr):\n",
    "        Eg = Egs_t[i]\n",
    "        index_Eg = np.argmin(np.abs(Eg_arr - Eg))\n",
    "        if R_2D[index_Eg,:].sum() > 0:\n",
    "            # choosing rand accounts for the efficiency; As the efficiency read from file currently\n",
    "            # does not always correspons with the counts in R_2D, see #3, we need two if tests\n",
    "            rand = np.random.uniform()\n",
    "            if rand <= eff[index_Eg]:\n",
    "                # If the gamma is not lost to efficiency, redistribute its energy somewhere in the response:\n",
    "                Eg_folded = np.random.choice(Eg_arr, p=response[index_Eg,:])\n",
    "            else: \n",
    "                Eg_folded = 0 # Give Energy 0 to events that are not recorded.\n",
    "        else: \n",
    "            Eg_folded = 0 # Give Energy 0 to events that are not recorded (below detector threshold)\n",
    "\n",
    "        Egs_folded[i] = Eg_folded\n",
    "\n",
    "\n",
    "    if pileup: # Is pileup desired?\n",
    "        # For each folded gamma, assign it to pileup with probability p_pile:\n",
    "        indices_pile = [] # Store indices in Egs_folded\n",
    "        counter_nopile = 0\n",
    "        map_to_pileup = {} # Map the indices that are *not* pileup to a new index set so that there are no index holes\n",
    "                        # For example if Mt = 3 and index 1 is pileup, then map_nopile = {0:0, 2:1}.\n",
    "                        # Then we decide which of the new indices to add each pileup event to.\n",
    "        for i_t in range(Mt_curr):\n",
    "            # Make sure at least one gamma is not assigned to pileup:\n",
    "            if i_t == Mt_curr-1 and counter_nopile == 0:\n",
    "                map_to_pileup[i_t] = counter_nopile\n",
    "                counter_nopile += 1\n",
    "                break\n",
    "\n",
    "            # Also make sure no more than 4 gammas remain, by\n",
    "            # setting pileup probability to 1 if we already have 4 non-piled\n",
    "            if counter_nopile == 4:\n",
    "                p_pile = 1\n",
    "\n",
    "            r_pile = np.random.uniform()\n",
    "            if r_pile < p_pile:\n",
    "                # This gamma should be piled.\n",
    "                indices_pile.append(i_t)\n",
    "            else:\n",
    "                # This gamma should not\n",
    "                map_to_pileup[i_t] = counter_nopile\n",
    "                counter_nopile += 1\n",
    "\n",
    "        # Calculate multiplicity of current event after pileup:\n",
    "        Mf_curr = Mt_curr - len(indices_pile)\n",
    "\n",
    "        # Decide mapping of pileup gammas:\n",
    "        for i_t in indices_pile:\n",
    "            map_to_pileup[i_t] = np.random.randint(0,Mf_curr) if Mf_curr > 0 else 0\n",
    "\n",
    "        Egs_piled = np.zeros(Mf_curr)\n",
    "        for i_t in range(Mt_curr):\n",
    "            Egs_piled[map_to_pileup[i_t]] += Egs_folded[i_t]\n",
    "\n",
    "    else:\n",
    "        # Do not include pileup:\n",
    "        Egs_piled = Egs_folded\n",
    "        # Mf_curr = Mt_curr\n",
    "\n",
    "    # print(\"Piled gammas =\", Egs_piled, flush=True)\n",
    "\n",
    "    return Egs_piled"
   ]
  },
  {
   "cell_type": "markdown",
   "metadata": {},
   "source": [
    "# Proof of principle, a single realization:\n",
    "Generate true events and plot them:"
   ]
  },
  {
   "cell_type": "code",
   "execution_count": 27,
   "metadata": {},
   "outputs": [],
   "source": [
    "Mt_max = 2 # Max true multiplicity 2\n",
    "events_t = np.zeros((N_events,Mt_max))\n",
    "Eg_gaussian_centroids = np.array([500,1700,1300,1000])\n",
    "for i_ev in range(N_events):\n",
    "    # Mt_curr = np.random.randint(low=1,high=(Mt_max+1))\n",
    "    Mt_curr = Mt_max # Testing, comparison to the first test we did with 2 gammas for the report\n",
    "    # Egs_current = np.random.uniform(low=0, high=Emax, size=Mt_curr)\n",
    "    Egs_current = np.random.normal(loc=Eg_gaussian_centroids[0:Mt_curr], scale=0.5*np.sqrt(Eg_gaussian_centroids[0:Mt_curr]), size=Mt_curr)\n",
    "    events_t[i_ev,0:Mt_curr] = Egs_current   \n"
   ]
  },
  {
   "cell_type": "code",
   "execution_count": 50,
   "metadata": {},
   "outputs": [
    {
     "data": {
      "image/png": "[encoded data removed]",
      "text/plain": [
       "<Figure size 432x288 with 2 Axes>"
      ]
     },
     "metadata": {
      "needs_background": "light"
     },
     "output_type": "display_data"
    }
   ],
   "source": [
    "# == Sort and plot true events ==\n",
    "E_t_array = E_resp_array\n",
    "N_Eg = len(E_t_array)\n",
    "counts_true = np.zeros((N_Eg, N_Eg))\n",
    "\n",
    "# Sort data:\n",
    "for i_ev in range(N_events):\n",
    "    counts_true[np.argmin(np.abs(E_t_array-events_t[i_ev,0])),np.argmin(np.abs(E_t_array-events_t[i_ev,1]))] += 1\n",
    "\n",
    "# Plot by Eg axes\n",
    "cbar = plt.pcolormesh(E_t_array, E_t_array, counts_true, cmap=\"jet\", norm=customLogNorm)\n",
    "plt.colorbar(cbar)\n",
    "plt.show()"
   ]
  },
  {
   "cell_type": "code",
   "execution_count": 51,
   "metadata": {},
   "outputs": [],
   "source": [
    "# Simulate pileup\n",
    "pileup = True\n",
    "p_pile = 1\n",
    "Mf_max = 1\n",
    "events_f = np.zeros((N_events, Mf_max))\n",
    "for i_ev in range(N_events):\n",
    "    Egs_folded = FoldEg(events_t[i_ev,:], Mf_max=4, Eg_arr=E_resp_array, response=R_2D, pileup=pileup, p_pile=p_pile)\n",
    "    events_f[i_ev,0:len(Egs_folded)] = Egs_folded"
   ]
  },
  {
   "cell_type": "code",
   "execution_count": 52,
   "metadata": {},
   "outputs": [
    {
     "data": {
      "image/png": "[encoded data removed]",
      "text/plain": [
       "<Figure size 432x288 with 1 Axes>"
      ]
     },
     "metadata": {
      "needs_background": "light"
     },
     "output_type": "display_data"
    }
   ],
   "source": [
    "# Sort and plot piled events (1-D spectrum since p_pile = 1)\n",
    "E_f_array = E_resp_array\n",
    "N_Eg = len(E_f_array)\n",
    "counts_folded = np.zeros((N_Eg))\n",
    "\n",
    "# Sort data:\n",
    "for i_ev in range(N_events):\n",
    "    counts_folded[np.argmin(np.abs(E_f_array-events_f[i_ev,0]))] += 1\n",
    "\n",
    "# Plot by Eg axes\n",
    "cbar = plt.plot(E_t_array, counts_folded)\n",
    "plt.show()"
   ]
  },
  {
   "cell_type": "markdown",
   "metadata": {},
   "source": [
    "# It works, now generate an ensemble of spectra"
   ]
  },
  {
   "cell_type": "code",
   "execution_count": 61,
   "metadata": {},
   "outputs": [
    {
     "name": "stdout",
     "output_type": "stream",
     "text": [
      "memory required to store events: 91.55 MB\n"
     ]
    },
    {
     "data": {
      "image/png": "[encoded data removed]",
      "text/plain": [
       "<Figure size 432x288 with 2 Axes>"
      ]
     },
     "metadata": {
      "needs_background": "light"
     },
     "output_type": "display_data"
    }
   ],
   "source": [
    "# Generate true events:\n",
    "N_ensemble = 200\n",
    "N_events = int(30*1e3) # Events per ensemble\n",
    "Mt_max = 2 # Max true multiplicity 2\n",
    "\n",
    "# Set calibration to use, should not be too large because of neural network\n",
    "a0, a1 = 0, 200 # keV\n",
    "N_nn = int(Emax/a1 - a0)\n",
    "E_nn_array = np.linspace(a0, a0+(N_nn-1)*a1, N_nn)\n",
    "\n",
    "memory_requirement = N_ensemble*N_events*Mt_max*8 / (1024)**2 # MB\n",
    "print(\"memory required to store events: {:.2f} MB\".format(memory_requirement), flush=True)\n",
    "\n",
    "ensemble_list_true = []\n",
    "for i_ens in range(N_ensemble):\n",
    "    events_t = np.zeros((N_events,Mt_max))\n",
    "    # Draw gaussian centroids randomly up to half of the maximum response array energy\n",
    "    Eg_gaussian_centroids = np.random.uniform(low=300, high=E_resp_array[-1]/2, size=Mt_max)\n",
    "    for i_ev in range(N_events):\n",
    "        # Mt_curr = np.random.randint(low=1,high=(Mt_max+1))\n",
    "        Mt_curr = Mt_max # Testing, comparison to the first test we did with 2 gammas for the report\n",
    "        # Egs_current = np.random.uniform(low=0, high=Emax, size=Mt_curr)\n",
    "        Egs_current = np.random.normal(loc=Eg_gaussian_centroids[0:Mt_curr], scale=0.5*np.sqrt(Eg_gaussian_centroids[0:Mt_curr]), size=Mt_curr)\n",
    "        events_t[i_ev,0:Mt_curr] = Egs_current   \n",
    "    ensemble_list_true.append(events_t)\n",
    "\n",
    "    \n",
    "    \n",
    "    \n",
    "# Sort each ensemble member and plot a random member:\n",
    "E_t_array = E_resp_array\n",
    "N_Eg = len(E_t_array)\n",
    "index = np.random.randint(0,N_ensemble-1)\n",
    "\n",
    "# Sort data:\n",
    "events_t = ensemble_list_true[index]\n",
    "#counts_true = np.zeros((N_nn, N_nn))\n",
    "ensemble_counts_true = np.zeros((N_ensemble, N_nn, N_nn))\n",
    "for i_ens in range(N_ensemble):\n",
    "    for i_ev in range(N_events):\n",
    "        ensemble_counts_true[i_ens, np.argmin(np.abs(E_nn_array-events_t[i_ev,0])), np.argmin(np.abs(E_nn_array-events_t[i_ev,1]))] += 1\n",
    "\n",
    "# Plot by Eg axes\n",
    "cbar = plt.pcolormesh(E_nn_array, E_nn_array, ensemble_counts_true[index,:,:], cmap=\"jet\", norm=customLogNorm)\n",
    "plt.colorbar(cbar)\n",
    "plt.title(\"Ensemble member \"+str(index))\n",
    "plt.show()"
   ]
  },
  {
   "cell_type": "code",
   "execution_count": 65,
   "metadata": {},
   "outputs": [],
   "source": [
    "np.save(\"ensemble_counts_true-\"+str(N_ensemble)+\"members.npy\", ensemble_counts_true)"
   ]
  },
  {
   "cell_type": "code",
   "execution_count": 62,
   "metadata": {
    "scrolled": true
   },
   "outputs": [
    {
     "data": {
      "image/png": "[encoded data removed]",
      "text/plain": [
       "<Figure size 432x288 with 1 Axes>"
      ]
     },
     "metadata": {
      "needs_background": "light"
     },
     "output_type": "display_data"
    }
   ],
   "source": [
    "# Simulate pileup for each member:\n",
    "pileup = True\n",
    "p_pile = 1\n",
    "Mf_max = 1\n",
    "\n",
    "ensemble_list_folded = []\n",
    "for i_ens in range(N_ensemble):\n",
    "    events_f = np.zeros((N_events, Mf_max))\n",
    "    for i_ev in range(N_events):\n",
    "        Egs_folded = FoldEg(events_t[i_ev,:], Mf_max=4, Eg_arr=E_resp_array, response=R_2D, pileup=pileup, p_pile=p_pile)\n",
    "        events_f[i_ev,0:len(Egs_folded)] = Egs_folded\n",
    "    ensemble_list_folded.append(events_f)\n",
    "    \n",
    "    \n",
    "    \n",
    "# Sort all ensemble members and plot same random member as above:\n",
    "ensemble_counts_folded = np.zeros((N_ensemble, N_nn))\n",
    "\n",
    "# Sort data:\n",
    "events_f = ensemble_list_folded[index]\n",
    "for i_ens in range(N_ensemble):\n",
    "    for i_ev in range(N_events):\n",
    "        ensemble_counts_folded[i_ens, np.argmin(np.abs(E_nn_array-events_f[i_ev,0]))] += 1\n",
    "\n",
    "# Plot by Eg axes\n",
    "plt.step(E_nn_array, ensemble_counts_folded[index,:])\n",
    "plt.title(\"Ensemble member \"+str(index))\n",
    "plt.show()"
   ]
  },
  {
   "cell_type": "code",
   "execution_count": 66,
   "metadata": {},
   "outputs": [],
   "source": [
    "np.save(\"ensemble_counts_folded-\"+str(N_ensemble)+\"members.npy\", ensemble_counts_true)"
   ]
  },
  {
   "cell_type": "markdown",
   "metadata": {},
   "source": [
    "# Set up the neural network\n",
    "\n",
    "I try to adapt something from the TensorFlow tutorial: "
   ]
  },
  {
   "cell_type": "code",
   "execution_count": 67,
   "metadata": {},
   "outputs": [],
   "source": [
    "import tensorflow as tf\n",
    "from tensorflow import keras\n",
    "\n",
    "model = keras.Sequential([\n",
    "    keras.layers.Dense(N_nn, activation=tf.nn.relu,\n",
    "                       input_shape=(counts_folded.shape[0],)),\n",
    "    keras.layers.Dense(N_nn, activation=tf.nn.relu),\n",
    "    keras.layers.Dense(int(N_nn**2))\n",
    "  ])"
   ]
  },
  {
   "cell_type": "code",
   "execution_count": 68,
   "metadata": {},
   "outputs": [
    {
     "name": "stdout",
     "output_type": "stream",
     "text": [
      "train_in.shape = (200, 20)\n",
      "train_out.shape = (200, 400)\n"
     ]
    },
    {
     "data": {
      "text/plain": [
       "<matplotlib.colorbar.Colorbar at 0x7fc850772630>"
      ]
     },
     "execution_count": 68,
     "metadata": {},
     "output_type": "execute_result"
    },
    {
     "data": {
      "image/png": "[encoded data removed]",
      "text/plain": [
       "<Figure size 432x288 with 2 Axes>"
      ]
     },
     "metadata": {
      "needs_background": "light"
     },
     "output_type": "display_data"
    }
   ],
   "source": [
    "train_in = ensemble_counts_folded / ensemble_counts_folded.sum(axis=1).reshape((ensemble_counts_folded.shape[0],1))\n",
    "print(\"train_in.shape =\", train_in.shape)\n",
    "train_out = ensemble_counts_true / ensemble_counts_true.sum(axis=(1,2)).reshape((ensemble_counts_folded.shape[0],1,1))\n",
    "train_out = train_out.reshape(N_ensemble, int(N_nn**2))\n",
    "print(\"train_out.shape =\", train_out.shape)\n",
    "plt.imshow(train_out[index].reshape(N_nn, N_nn), origin=\"lower\")\n",
    "plt.colorbar()"
   ]
  },
  {
   "cell_type": "code",
   "execution_count": 69,
   "metadata": {},
   "outputs": [],
   "source": [
    "optimizer = tf.train.RMSPropOptimizer(0.001)\n",
    "\n",
    "model.compile(loss='mse',\n",
    "            optimizer=optimizer,\n",
    "            metrics=['mae'])"
   ]
  },
  {
   "cell_type": "code",
   "execution_count": 77,
   "metadata": {},
   "outputs": [
    {
     "name": "stdout",
     "output_type": "stream",
     "text": [
      "Train on 160 samples, validate on 40 samples\n",
      "Epoch 1/100\n",
      " 32/160 [=====>........................] - ETA: 0s - loss: 2.6273e-07 - mean_absolute_error: 4.0936e-04\n",
      "160/160 [==============================] - 0s 66us/step - loss: 2.5205e-07 - mean_absolute_error: 4.0121e-04 - val_loss: 2.2256e-07 - val_mean_absolute_error: 3.7784e-04\n",
      "Epoch 2/100\n",
      "160/160 [==============================] - 0s 66us/step - loss: 2.1316e-07 - mean_absolute_error: 3.7096e-04 - val_loss: 2.3127e-07 - val_mean_absolute_error: 3.8670e-04\n",
      "Epoch 3/100\n",
      "160/160 [==============================] - 0s 105us/step - loss: 2.8751e-07 - mean_absolute_error: 4.3100e-04 - val_loss: 3.3737e-07 - val_mean_absolute_error: 4.7173e-04\n",
      "Epoch 4/100\n",
      "160/160 [==============================] - 0s 66us/step - loss: 3.0335e-07 - mean_absolute_error: 4.4987e-04 - val_loss: 2.4625e-07 - val_mean_absolute_error: 4.0818e-04\n",
      "Epoch 5/100\n",
      "160/160 [==============================] - 0s 101us/step - loss: 2.2569e-07 - mean_absolute_error: 3.8809e-04 - val_loss: 2.2172e-07 - val_mean_absolute_error: 3.8093e-04\n",
      "Epoch 6/100\n",
      "160/160 [==============================] - 0s 91us/step - loss: 2.5518e-07 - mean_absolute_error: 4.0729e-04 - val_loss: 3.1049e-07 - val_mean_absolute_error: 4.4912e-04\n",
      "Epoch 7/100\n",
      "160/160 [==============================] - 0s 101us/step - loss: 3.1332e-07 - mean_absolute_error: 4.5145e-04 - val_loss: 2.7960e-07 - val_mean_absolute_error: 4.2764e-04\n",
      "Epoch 8/100\n",
      "160/160 [==============================] - 0s 77us/step - loss: 2.4083e-07 - mean_absolute_error: 3.9622e-04 - val_loss: 1.9828e-07 - val_mean_absolute_error: 3.5897e-04\n",
      "Epoch 9/100\n",
      "160/160 [==============================] - 0s 61us/step - loss: 1.9871e-07 - mean_absolute_error: 3.5830e-04 - val_loss: 2.2051e-07 - val_mean_absolute_error: 3.7621e-04\n",
      "Epoch 10/100\n",
      "160/160 [==============================] - 0s 97us/step - loss: 2.4637e-07 - mean_absolute_error: 3.9593e-04 - val_loss: 2.7056e-07 - val_mean_absolute_error: 4.1441e-04\n",
      "Epoch 11/100\n",
      "160/160 [==============================] - 0s 108us/step - loss: 2.6145e-07 - mean_absolute_error: 4.0818e-04 - val_loss: 2.4157e-07 - val_mean_absolute_error: 3.9360e-04\n",
      "Epoch 12/100\n",
      "160/160 [==============================] - 0s 93us/step - loss: 2.3527e-07 - mean_absolute_error: 3.9017e-04 - val_loss: 2.3858e-07 - val_mean_absolute_error: 3.9613e-04\n",
      "Epoch 13/100\n",
      "160/160 [==============================] - 0s 80us/step - loss: 2.5837e-07 - mean_absolute_error: 4.1328e-04 - val_loss: 2.8942e-07 - val_mean_absolute_error: 4.3873e-04\n",
      "Epoch 14/100\n",
      "160/160 [==============================] - 0s 93us/step - loss: 2.9519e-07 - mean_absolute_error: 4.4496e-04 - val_loss: 2.8841e-07 - val_mean_absolute_error: 4.4084e-04\n",
      "Epoch 15/100\n",
      "160/160 [==============================] - 0s 102us/step - loss: 2.5713e-07 - mean_absolute_error: 4.1630e-04 - val_loss: 2.1252e-07 - val_mean_absolute_error: 3.7890e-04\n",
      "Epoch 16/100\n",
      "160/160 [==============================] - 0s 63us/step - loss: 2.1873e-07 - mean_absolute_error: 3.8185e-04 - val_loss: 2.6511e-07 - val_mean_absolute_error: 4.1713e-04\n",
      "Epoch 17/100\n",
      "160/160 [==============================] - 0s 104us/step - loss: 3.0398e-07 - mean_absolute_error: 4.4395e-04 - val_loss: 3.2669e-07 - val_mean_absolute_error: 4.5877e-04\n",
      "Epoch 18/100\n",
      "160/160 [==============================] - 0s 100us/step - loss: 3.0025e-07 - mean_absolute_error: 4.3996e-04 - val_loss: 2.5301e-07 - val_mean_absolute_error: 4.0488e-04\n",
      "Epoch 19/100\n",
      "160/160 [==============================] - 0s 77us/step - loss: 2.4260e-07 - mean_absolute_error: 3.9715e-04 - val_loss: 2.4647e-07 - val_mean_absolute_error: 4.0166e-04\n",
      "Epoch 20/100\n",
      "160/160 [==============================] - 0s 99us/step - loss: 2.4402e-07 - mean_absolute_error: 3.9957e-04 - val_loss: 2.2838e-07 - val_mean_absolute_error: 3.8684e-04\n",
      "Epoch 21/100\n",
      "160/160 [==============================] - 0s 75us/step - loss: 2.2121e-07 - mean_absolute_error: 3.8048e-04 - val_loss: 2.2289e-07 - val_mean_absolute_error: 3.8194e-04\n",
      "Epoch 22/100\n",
      "160/160 [==============================] - 0s 94us/step - loss: 2.3280e-07 - mean_absolute_error: 3.9232e-04 - val_loss: 2.4469e-07 - val_mean_absolute_error: 4.0520e-04\n",
      "Epoch 23/100\n",
      "160/160 [==============================] - 0s 58us/step - loss: 2.4248e-07 - mean_absolute_error: 4.0515e-04 - val_loss: 2.2885e-07 - val_mean_absolute_error: 3.9541e-04\n",
      "Epoch 24/100\n",
      "160/160 [==============================] - 0s 87us/step - loss: 2.1615e-07 - mean_absolute_error: 3.8416e-04 - val_loss: 2.0466e-07 - val_mean_absolute_error: 3.7266e-04\n",
      "Epoch 25/100\n",
      "160/160 [==============================] - 0s 95us/step - loss: 2.1381e-07 - mean_absolute_error: 3.7620e-04 - val_loss: 2.5157e-07 - val_mean_absolute_error: 3.9868e-04\n",
      "Epoch 26/100\n",
      "160/160 [==============================] - 0s 110us/step - loss: 3.1502e-07 - mean_absolute_error: 4.4259e-04 - val_loss: 3.9051e-07 - val_mean_absolute_error: 5.0057e-04\n",
      "Epoch 27/100\n",
      "160/160 [==============================] - 0s 78us/step - loss: 3.6016e-07 - mean_absolute_error: 4.8466e-04 - val_loss: 2.6690e-07 - val_mean_absolute_error: 4.1946e-04\n",
      "Epoch 28/100\n",
      "160/160 [==============================] - 0s 79us/step - loss: 2.1720e-07 - mean_absolute_error: 3.7620e-04 - val_loss: 1.8022e-07 - val_mean_absolute_error: 3.4115e-04\n",
      "Epoch 29/100\n",
      "160/160 [==============================] - 0s 85us/step - loss: 1.9866e-07 - mean_absolute_error: 3.5738e-04 - val_loss: 2.4553e-07 - val_mean_absolute_error: 3.9829e-04\n",
      "Epoch 30/100\n",
      "160/160 [==============================] - 0s 73us/step - loss: 2.6727e-07 - mean_absolute_error: 4.1677e-04 - val_loss: 2.6909e-07 - val_mean_absolute_error: 4.1827e-04\n",
      "Epoch 31/100\n",
      "160/160 [==============================] - 0s 110us/step - loss: 2.5157e-07 - mean_absolute_error: 4.0227e-04 - val_loss: 2.3958e-07 - val_mean_absolute_error: 3.8878e-04\n",
      "Epoch 32/100\n",
      "160/160 [==============================] - 0s 66us/step - loss: 2.6094e-07 - mean_absolute_error: 4.0685e-04 - val_loss: 2.9893e-07 - val_mean_absolute_error: 4.4102e-04\n",
      "Epoch 33/100\n",
      "160/160 [==============================] - 0s 71us/step - loss: 2.8747e-07 - mean_absolute_error: 4.3472e-04 - val_loss: 2.4226e-07 - val_mean_absolute_error: 4.0032e-04\n",
      "Epoch 34/100\n",
      "160/160 [==============================] - 0s 75us/step - loss: 2.1577e-07 - mean_absolute_error: 3.7557e-04 - val_loss: 1.9954e-07 - val_mean_absolute_error: 3.5851e-04\n",
      "Epoch 35/100\n",
      "160/160 [==============================] - 0s 108us/step - loss: 2.2456e-07 - mean_absolute_error: 3.7975e-04 - val_loss: 2.8506e-07 - val_mean_absolute_error: 4.2955e-04\n",
      "Epoch 36/100\n",
      "160/160 [==============================] - 0s 70us/step - loss: 3.0526e-07 - mean_absolute_error: 4.4631e-04 - val_loss: 2.8159e-07 - val_mean_absolute_error: 4.2994e-04\n",
      "Epoch 37/100\n",
      "160/160 [==============================] - 0s 118us/step - loss: 2.4128e-07 - mean_absolute_error: 3.9537e-04 - val_loss: 2.0594e-07 - val_mean_absolute_error: 3.6165e-04\n",
      "Epoch 38/100\n",
      "160/160 [==============================] - 0s 118us/step - loss: 2.2536e-07 - mean_absolute_error: 3.7777e-04 - val_loss: 2.7735e-07 - val_mean_absolute_error: 4.2313e-04\n",
      "Epoch 39/100\n",
      "160/160 [==============================] - 0s 74us/step - loss: 2.9196e-07 - mean_absolute_error: 4.3716e-04 - val_loss: 2.6954e-07 - val_mean_absolute_error: 4.2273e-04\n",
      "Epoch 40/100\n",
      "160/160 [==============================] - 0s 68us/step - loss: 2.3455e-07 - mean_absolute_error: 3.9231e-04 - val_loss: 1.9983e-07 - val_mean_absolute_error: 3.5906e-04\n",
      "Epoch 41/100\n",
      "160/160 [==============================] - 0s 70us/step - loss: 2.0971e-07 - mean_absolute_error: 3.6757e-04 - val_loss: 2.5336e-07 - val_mean_absolute_error: 4.0496e-04\n",
      "Epoch 42/100\n",
      "160/160 [==============================] - 0s 78us/step - loss: 2.9815e-07 - mean_absolute_error: 4.4052e-04 - val_loss: 3.1355e-07 - val_mean_absolute_error: 4.5482e-04\n",
      "Epoch 43/100\n",
      "160/160 [==============================] - 0s 73us/step - loss: 2.6309e-07 - mean_absolute_error: 4.1483e-04 - val_loss: 2.0047e-07 - val_mean_absolute_error: 3.5963e-04\n",
      "Epoch 44/100\n",
      "160/160 [==============================] - 0s 84us/step - loss: 2.0133e-07 - mean_absolute_error: 3.5778e-04 - val_loss: 2.3823e-07 - val_mean_absolute_error: 3.8867e-04\n"
     ]
    },
    {
     "name": "stdout",
     "output_type": "stream",
     "text": [
      "Epoch 45/100\n",
      "160/160 [==============================] - 0s 124us/step - loss: 2.8265e-07 - mean_absolute_error: 4.2669e-04 - val_loss: 3.1047e-07 - val_mean_absolute_error: 4.5291e-04\n",
      "Epoch 46/100\n",
      "160/160 [==============================] - 0s 82us/step - loss: 2.7180e-07 - mean_absolute_error: 4.2360e-04 - val_loss: 2.1128e-07 - val_mean_absolute_error: 3.7172e-04\n",
      "Epoch 47/100\n",
      "160/160 [==============================] - 0s 96us/step - loss: 1.9887e-07 - mean_absolute_error: 3.5850e-04 - val_loss: 2.0858e-07 - val_mean_absolute_error: 3.6753e-04\n",
      "Epoch 48/100\n",
      "160/160 [==============================] - 0s 69us/step - loss: 2.5324e-07 - mean_absolute_error: 4.0477e-04 - val_loss: 3.2685e-07 - val_mean_absolute_error: 4.6323e-04\n",
      "Epoch 49/100\n",
      "160/160 [==============================] - 0s 95us/step - loss: 3.0665e-07 - mean_absolute_error: 4.4947e-04 - val_loss: 2.3518e-07 - val_mean_absolute_error: 3.9337e-04\n",
      "Epoch 50/100\n",
      "160/160 [==============================] - 0s 105us/step - loss: 2.0331e-07 - mean_absolute_error: 3.6265e-04 - val_loss: 1.9126e-07 - val_mean_absolute_error: 3.4795e-04\n",
      "Epoch 51/100\n",
      "160/160 [==============================] - 0s 93us/step - loss: 2.2951e-07 - mean_absolute_error: 3.8054e-04 - val_loss: 3.0801e-07 - val_mean_absolute_error: 4.4673e-04\n",
      "Epoch 52/100\n",
      "160/160 [==============================] - 0s 90us/step - loss: 3.1507e-07 - mean_absolute_error: 4.5490e-04 - val_loss: 2.6541e-07 - val_mean_absolute_error: 4.1978e-04\n",
      "Epoch 53/100\n",
      "160/160 [==============================] - 0s 119us/step - loss: 2.2066e-07 - mean_absolute_error: 3.8004e-04 - val_loss: 1.8448e-07 - val_mean_absolute_error: 3.4433e-04\n",
      "Epoch 54/100\n",
      "160/160 [==============================] - 0s 84us/step - loss: 2.0372e-07 - mean_absolute_error: 3.6199e-04 - val_loss: 2.6527e-07 - val_mean_absolute_error: 4.1514e-04\n",
      "Epoch 55/100\n",
      "160/160 [==============================] - 0s 94us/step - loss: 3.0887e-07 - mean_absolute_error: 4.4944e-04 - val_loss: 3.0542e-07 - val_mean_absolute_error: 4.4965e-04\n",
      "Epoch 56/100\n",
      "160/160 [==============================] - 0s 82us/step - loss: 2.5039e-07 - mean_absolute_error: 4.0472e-04 - val_loss: 1.8925e-07 - val_mean_absolute_error: 3.4920e-04\n",
      "Epoch 57/100\n",
      "160/160 [==============================] - 0s 102us/step - loss: 1.9429e-07 - mean_absolute_error: 3.5124e-04 - val_loss: 2.3896e-07 - val_mean_absolute_error: 3.8924e-04\n",
      "Epoch 58/100\n",
      "160/160 [==============================] - 0s 96us/step - loss: 2.9227e-07 - mean_absolute_error: 4.3391e-04 - val_loss: 3.2103e-07 - val_mean_absolute_error: 4.6072e-04\n",
      "Epoch 59/100\n",
      "160/160 [==============================] - 0s 99us/step - loss: 2.6956e-07 - mean_absolute_error: 4.2155e-04 - val_loss: 1.9884e-07 - val_mean_absolute_error: 3.6099e-04\n",
      "Epoch 60/100\n",
      "160/160 [==============================] - 0s 72us/step - loss: 1.8866e-07 - mean_absolute_error: 3.4922e-04 - val_loss: 2.0585e-07 - val_mean_absolute_error: 3.6408e-04\n",
      "Epoch 61/100\n",
      "160/160 [==============================] - 0s 91us/step - loss: 2.5865e-07 - mean_absolute_error: 4.0821e-04 - val_loss: 3.3373e-07 - val_mean_absolute_error: 4.6854e-04\n",
      "Epoch 62/100\n",
      "160/160 [==============================] - 0s 109us/step - loss: 3.0571e-07 - mean_absolute_error: 4.4865e-04 - val_loss: 2.2920e-07 - val_mean_absolute_error: 3.8782e-04\n",
      "Epoch 63/100\n",
      "160/160 [==============================] - 0s 99us/step - loss: 1.9928e-07 - mean_absolute_error: 3.5847e-04 - val_loss: 1.9286e-07 - val_mean_absolute_error: 3.4839e-04\n",
      "Epoch 64/100\n",
      "160/160 [==============================] - 0s 98us/step - loss: 2.3826e-07 - mean_absolute_error: 3.8817e-04 - val_loss: 3.1673e-07 - val_mean_absolute_error: 4.5439e-04\n",
      "Epoch 65/100\n",
      "160/160 [==============================] - 0s 94us/step - loss: 3.0532e-07 - mean_absolute_error: 4.4853e-04 - val_loss: 2.4334e-07 - val_mean_absolute_error: 4.0167e-04\n",
      "Epoch 66/100\n",
      "160/160 [==============================] - 0s 66us/step - loss: 2.0718e-07 - mean_absolute_error: 3.6796e-04 - val_loss: 1.8252e-07 - val_mean_absolute_error: 3.4216e-04\n",
      "Epoch 67/100\n",
      "160/160 [==============================] - 0s 90us/step - loss: 2.0707e-07 - mean_absolute_error: 3.6454e-04 - val_loss: 2.7686e-07 - val_mean_absolute_error: 4.2365e-04\n",
      "Epoch 68/100\n",
      "160/160 [==============================] - 0s 76us/step - loss: 3.1627e-07 - mean_absolute_error: 4.5499e-04 - val_loss: 2.9919e-07 - val_mean_absolute_error: 4.4487e-04\n",
      "Epoch 69/100\n",
      "160/160 [==============================] - 0s 116us/step - loss: 2.4165e-07 - mean_absolute_error: 3.9703e-04 - val_loss: 1.8423e-07 - val_mean_absolute_error: 3.4402e-04\n",
      "Epoch 70/100\n",
      "160/160 [==============================] - 0s 74us/step - loss: 1.9649e-07 - mean_absolute_error: 3.5272e-04 - val_loss: 2.5265e-07 - val_mean_absolute_error: 4.0123e-04\n",
      "Epoch 71/100\n",
      "160/160 [==============================] - 0s 100us/step - loss: 2.9644e-07 - mean_absolute_error: 4.3834e-04 - val_loss: 3.0207e-07 - val_mean_absolute_error: 4.4767e-04\n",
      "Epoch 72/100\n",
      "160/160 [==============================] - 0s 108us/step - loss: 2.5349e-07 - mean_absolute_error: 4.0879e-04 - val_loss: 1.9235e-07 - val_mean_absolute_error: 3.5413e-04\n",
      "Epoch 73/100\n",
      "160/160 [==============================] - 0s 99us/step - loss: 1.8686e-07 - mean_absolute_error: 3.4701e-04 - val_loss: 2.0837e-07 - val_mean_absolute_error: 3.6697e-04\n",
      "Epoch 74/100\n",
      "160/160 [==============================] - 0s 107us/step - loss: 2.6324e-07 - mean_absolute_error: 4.1222e-04 - val_loss: 3.3876e-07 - val_mean_absolute_error: 4.7206e-04\n",
      "Epoch 75/100\n",
      "160/160 [==============================] - 0s 129us/step - loss: 3.0342e-07 - mean_absolute_error: 4.4688e-04 - val_loss: 2.2140e-07 - val_mean_absolute_error: 3.8099e-04\n",
      "Epoch 76/100\n",
      "160/160 [==============================] - 0s 80us/step - loss: 1.9465e-07 - mean_absolute_error: 3.5408e-04 - val_loss: 1.9283e-07 - val_mean_absolute_error: 3.4820e-04\n",
      "Epoch 77/100\n",
      "160/160 [==============================] - 0s 79us/step - loss: 2.3852e-07 - mean_absolute_error: 3.8841e-04 - val_loss: 3.1409e-07 - val_mean_absolute_error: 4.5263e-04\n",
      "Epoch 78/100\n",
      "160/160 [==============================] - 0s 88us/step - loss: 3.0348e-07 - mean_absolute_error: 4.4721e-04 - val_loss: 2.4245e-07 - val_mean_absolute_error: 4.0102e-04\n",
      "Epoch 79/100\n",
      "160/160 [==============================] - 0s 106us/step - loss: 2.0504e-07 - mean_absolute_error: 3.6594e-04 - val_loss: 1.7950e-07 - val_mean_absolute_error: 3.3907e-04\n",
      "Epoch 80/100\n",
      "160/160 [==============================] - 0s 64us/step - loss: 2.0275e-07 - mean_absolute_error: 3.6088e-04 - val_loss: 2.7005e-07 - val_mean_absolute_error: 4.1876e-04\n",
      "Epoch 81/100\n",
      "160/160 [==============================] - 0s 86us/step - loss: 3.1368e-07 - mean_absolute_error: 4.5302e-04 - val_loss: 3.0296e-07 - val_mean_absolute_error: 4.4792e-04\n",
      "Epoch 82/100\n",
      "160/160 [==============================] - 0s 70us/step - loss: 2.4484e-07 - mean_absolute_error: 3.9989e-04 - val_loss: 1.8353e-07 - val_mean_absolute_error: 3.4356e-04\n",
      "Epoch 83/100\n",
      "160/160 [==============================] - 0s 76us/step - loss: 1.9051e-07 - mean_absolute_error: 3.4758e-04 - val_loss: 2.3805e-07 - val_mean_absolute_error: 3.8875e-04\n",
      "Epoch 84/100\n",
      "160/160 [==============================] - 0s 83us/step - loss: 2.9028e-07 - mean_absolute_error: 4.3270e-04 - val_loss: 3.1454e-07 - val_mean_absolute_error: 4.5617e-04\n",
      "Epoch 85/100\n",
      "160/160 [==============================] - 0s 98us/step - loss: 2.6282e-07 - mean_absolute_error: 4.1631e-04 - val_loss: 1.9362e-07 - val_mean_absolute_error: 3.5591e-04\n",
      "Epoch 86/100\n",
      "160/160 [==============================] - 0s 96us/step - loss: 1.8371e-07 - mean_absolute_error: 3.4431e-04 - val_loss: 1.9807e-07 - val_mean_absolute_error: 3.5716e-04\n",
      "Epoch 87/100\n",
      "160/160 [==============================] - 0s 68us/step - loss: 2.4743e-07 - mean_absolute_error: 3.9923e-04 - val_loss: 3.3047e-07 - val_mean_absolute_error: 4.6576e-04\n",
      "Epoch 88/100\n",
      "160/160 [==============================] - 0s 76us/step - loss: 3.1208e-07 - mean_absolute_error: 4.5339e-04 - val_loss: 2.3602e-07 - val_mean_absolute_error: 3.9411e-04\n",
      "Epoch 89/100\n",
      "160/160 [==============================] - 0s 82us/step - loss: 1.9914e-07 - mean_absolute_error: 3.5880e-04 - val_loss: 1.8240e-07 - val_mean_absolute_error: 3.3956e-04\n"
     ]
    },
    {
     "name": "stdout",
     "output_type": "stream",
     "text": [
      "Epoch 90/100\n",
      "160/160 [==============================] - 0s 74us/step - loss: 2.2177e-07 - mean_absolute_error: 3.7402e-04 - val_loss: 3.0392e-07 - val_mean_absolute_error: 4.4379e-04\n",
      "Epoch 91/100\n",
      "160/160 [==============================] - 0s 83us/step - loss: 3.0855e-07 - mean_absolute_error: 4.5024e-04 - val_loss: 2.5641e-07 - val_mean_absolute_error: 4.1302e-04\n",
      "Epoch 92/100\n",
      "160/160 [==============================] - 0s 74us/step - loss: 2.1335e-07 - mean_absolute_error: 3.7392e-04 - val_loss: 1.7672e-07 - val_mean_absolute_error: 3.3695e-04\n",
      "Epoch 93/100\n",
      "160/160 [==============================] - 0s 82us/step - loss: 1.9061e-07 - mean_absolute_error: 3.4977e-04 - val_loss: 2.4171e-07 - val_mean_absolute_error: 3.9586e-04\n",
      "Epoch 94/100\n",
      "160/160 [==============================] - 0s 86us/step - loss: 2.9923e-07 - mean_absolute_error: 4.4128e-04 - val_loss: 3.2629e-07 - val_mean_absolute_error: 4.6442e-04\n",
      "Epoch 95/100\n",
      "160/160 [==============================] - 0s 75us/step - loss: 2.6593e-07 - mean_absolute_error: 4.1734e-04 - val_loss: 1.8907e-07 - val_mean_absolute_error: 3.4990e-04\n",
      "Epoch 96/100\n",
      "160/160 [==============================] - 0s 72us/step - loss: 1.8460e-07 - mean_absolute_error: 3.4299e-04 - val_loss: 2.1581e-07 - val_mean_absolute_error: 3.6921e-04\n",
      "Epoch 97/100\n",
      "160/160 [==============================] - 0s 86us/step - loss: 2.7092e-07 - mean_absolute_error: 4.1622e-04 - val_loss: 3.2050e-07 - val_mean_absolute_error: 4.5944e-04\n",
      "Epoch 98/100\n",
      "160/160 [==============================] - 0s 72us/step - loss: 2.7960e-07 - mean_absolute_error: 4.2965e-04 - val_loss: 2.0724e-07 - val_mean_absolute_error: 3.6940e-04\n",
      "Epoch 99/100\n",
      "160/160 [==============================] - 0s 74us/step - loss: 1.8559e-07 - mean_absolute_error: 3.4674e-04 - val_loss: 1.8287e-07 - val_mean_absolute_error: 3.4198e-04\n",
      "Epoch 100/100\n",
      "160/160 [==============================] - 0s 82us/step - loss: 2.2011e-07 - mean_absolute_error: 3.7618e-04 - val_loss: 3.0570e-07 - val_mean_absolute_error: 4.4624e-04\n"
     ]
    }
   ],
   "source": [
    "# Display training progress by printing a single dot for each completed epoch\n",
    "class PrintDot(keras.callbacks.Callback):\n",
    "  def on_epoch_end(self, epoch, logs):\n",
    "    if epoch % 100 == 0: print('')\n",
    "    print('.', end='')\n",
    "EPOCHS = 100\n",
    "history = model.fit(train_in, train_out, epochs=EPOCHS,\n",
    "                    validation_split=0.2, verbose=1,\n",
    "                    callbacks=[PrintDot()])"
   ]
  },
  {
   "cell_type": "code",
   "execution_count": 78,
   "metadata": {},
   "outputs": [
    {
     "data": {
      "image/png": "[encoded data removed]",
      "text/plain": [
       "<Figure size 432x288 with 1 Axes>"
      ]
     },
     "metadata": {
      "needs_background": "light"
     },
     "output_type": "display_data"
    }
   ],
   "source": [
    "import matplotlib.pyplot as plt\n",
    "\n",
    "\n",
    "def plot_history(history):\n",
    "  plt.figure()\n",
    "  plt.xlabel('Epoch')\n",
    "  plt.ylabel('Mean Abs Error')\n",
    "  plt.plot(history.epoch, np.array(history.history['mean_absolute_error']),\n",
    "           label='Train Loss')\n",
    "  plt.plot(history.epoch, np.array(history.history['val_mean_absolute_error']),\n",
    "           label = 'Val loss')\n",
    "  plt.legend()\n",
    "  #plt.ylim([0, 5])\n",
    "\n",
    "plot_history(history)"
   ]
  },
  {
   "cell_type": "code",
   "execution_count": null,
   "metadata": {},
   "outputs": [],
   "source": []
  }
 ],
 "metadata": {
  "kernelspec": {
   "display_name": "Python 3",
   "language": "python",
   "name": "python3"
  },
  "language_info": {
   "codemirror_mode": {
    "name": "ipython",
    "version": 3
   },
   "file_extension": ".py",
   "mimetype": "text/x-python",
   "name": "python",
   "nbconvert_exporter": "python",
   "pygments_lexer": "ipython3",
   "version": "3.6.6"
  }
 },
 "nbformat": 4,
 "nbformat_minor": 2
}
