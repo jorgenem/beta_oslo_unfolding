{
 "cells": [
  {
   "cell_type": "markdown",
   "metadata": {},
   "source": [
    "I am testing using a neural network to recognise patterns in the pileup spectra, so that we can revert from a piled-up 1-D spectrum to the underlying 2-D spectrum. First I simulate pairs of piled, original spectra, then I make the network."
   ]
  },
  {
   "cell_type": "code",
   "execution_count": 2,
   "metadata": {},
   "outputs": [],
   "source": [
    "from importlib import reload\n",
    "from utilities import *\n",
    "import numpy as np\n",
    "import matplotlib.pyplot as plt\n",
    "from matplotlib.colors import LogNorm\n",
    "import os\n"
   ]
  },
  {
   "cell_type": "markdown",
   "metadata": {},
   "source": [
    "# Simulate spectra. \n",
    "Assume only multiplicity 2, and set the pileup probability to 1 for this test. \n",
    "Later we must check how an energy-dependent pileup probability affects things."
   ]
  },
  {
   "cell_type": "code",
   "execution_count": 3,
   "metadata": {},
   "outputs": [],
   "source": [
    "# Set some global variables:\n",
    "N_events = int(30*1e3)\n",
    "customLogNorm = LogNorm(vmin=1e0, vmax=N_events)\n",
    "np.random.seed(124356)"
   ]
  },
  {
   "cell_type": "code",
   "execution_count": 4,
   "metadata": {},
   "outputs": [],
   "source": [
    "# Import response matrix\n",
    "\n",
    "fname_resp = 'resp-SuN2015-20keV-1p0FWHM.dat'\n",
    "fname_resp_mat = 'response_matrix-SuN2015-20keV-1p0FWHM.m'\n",
    "# fname_resp = 'resp-SuN2015-50keV-1p0FWHM.dat'\n",
    "# fname_resp_mat = 'response_matrix-SuN2015-50keV-1p0FWHM.m'\n",
    "R_2D, cal_resp, E_resp_array, tmp = read_mama_2D(fname_resp_mat)\n",
    "# R_2D = div0(R_2D , R_2D.sum(rebin_axis=1))\n",
    "\n",
    "# Read efficiency and other 1-D response variables:\n",
    "resp = []\n",
    "with open(fname_resp) as file:\n",
    "    # Read line by line as there is crazyness in the file format\n",
    "    lines = file.readlines()\n",
    "    for i in range(4,len(lines)):\n",
    "        try:\n",
    "            row = np.array(lines[i].split(), dtype=\"double\")\n",
    "            resp.append(row)\n",
    "        except:\n",
    "            break\n",
    "\n",
    "resp = np.array(resp)\n",
    "# Name the columns for ease of reading\n",
    "# FWHM = resp[:,1]\n",
    "eff = resp[:,2]\n",
    "# pf = resp[:,3]\n",
    "# pc = resp[:,4]\n",
    "# ps = resp[:,5]\n",
    "# pd = resp[:,6]\n",
    "# pa = resp[:,7]\n",
    "\n",
    "\n",
    "\n",
    "Emax = 4000 # Crop response matrix (and thus also event generation) to efficiate computation\n",
    "i_Emax = np.argmin(np.abs(E_resp_array-Emax))\n",
    "R_2D = R_2D[0:i_Emax,0:i_Emax]\n",
    "E_resp_array = E_resp_array[0:i_Emax]\n",
    "\n",
    "\n",
    "\n",
    "# Assumed lower threshold for gammas in response matrix\n",
    "E_thres = 100\n",
    "i_thres = np.argmin(np.abs(E_resp_array - E_thres))\n",
    "R_2D[:,:i_thres] = 0\n",
    "\n",
    "for i in range(R_2D.shape[0]):\n",
    "    norm = R_2D[i,:].sum()\n",
    "    if(norm>0):\n",
    "        R_2D[i,:] = R_2D[i,:] / norm #* eff[i]\n",
    "    else:\n",
    "        R_2D[i,:] = 0"
   ]
  },
  {
   "cell_type": "code",
   "execution_count": 5,
   "metadata": {},
   "outputs": [],
   "source": [
    "# === Folding function for a single event ===\n",
    "def FoldEg(Egs_t, Mf_max, Eg_arr, response, pileup=True, p_pile=0.2):\n",
    "    \"\"\"\n",
    "    This function folds all Egs from a single event.\n",
    "    \"\"\"\n",
    "\n",
    "    \n",
    "    # print(\"Folding. True gammas =\", Egs_t, flush=True)\n",
    "    Mt_curr = len(Egs_t[Egs_t>0]) # Number of true gammas\n",
    "\n",
    "    \n",
    "    Mf_curr = Mt_curr # Folded multiplicity is the same as true because we do pileup after energy folding\n",
    "\n",
    "    # Now proceed to fold each gamma with detector response:\n",
    "    Egs_folded = np.zeros(Mf_curr)\n",
    "    for i in range(Mf_curr):\n",
    "        Eg = Egs_t[i]\n",
    "        index_Eg = np.argmin(np.abs(Eg_arr - Eg))\n",
    "        if R_2D[index_Eg,:].sum() > 0:\n",
    "            # choosing rand accounts for the efficiency; As the efficiency read from file currently\n",
    "            # does not always correspons with the counts in R_2D, see #3, we need two if tests\n",
    "            rand = np.random.uniform()\n",
    "            if rand <= eff[index_Eg]:\n",
    "                # If the gamma is not lost to efficiency, redistribute its energy somewhere in the response:\n",
    "                Eg_folded = np.random.choice(Eg_arr, p=response[index_Eg,:])\n",
    "            else: \n",
    "                Eg_folded = 0 # Give Energy 0 to events that are not recorded.\n",
    "        else: \n",
    "            Eg_folded = 0 # Give Energy 0 to events that are not recorded (below detector threshold)\n",
    "\n",
    "        Egs_folded[i] = Eg_folded\n",
    "\n",
    "\n",
    "    if pileup: # Is pileup desired?\n",
    "        # For each folded gamma, assign it to pileup with probability p_pile:\n",
    "        indices_pile = [] # Store indices in Egs_folded\n",
    "        counter_nopile = 0\n",
    "        map_to_pileup = {} # Map the indices that are *not* pileup to a new index set so that there are no index holes\n",
    "                        # For example if Mt = 3 and index 1 is pileup, then map_nopile = {0:0, 2:1}.\n",
    "                        # Then we decide which of the new indices to add each pileup event to.\n",
    "        for i_t in range(Mt_curr):\n",
    "            # Make sure at least one gamma is not assigned to pileup:\n",
    "            if i_t == Mt_curr-1 and counter_nopile == 0:\n",
    "                map_to_pileup[i_t] = counter_nopile\n",
    "                counter_nopile += 1\n",
    "                break\n",
    "\n",
    "            # Also make sure no more than 4 gammas remain, by\n",
    "            # setting pileup probability to 1 if we already have 4 non-piled\n",
    "            if counter_nopile == 4:\n",
    "                p_pile = 1\n",
    "\n",
    "            r_pile = np.random.uniform()\n",
    "            if r_pile < p_pile:\n",
    "                # This gamma should be piled.\n",
    "                indices_pile.append(i_t)\n",
    "            else:\n",
    "                # This gamma should not\n",
    "                map_to_pileup[i_t] = counter_nopile\n",
    "                counter_nopile += 1\n",
    "\n",
    "        # Calculate multiplicity of current event after pileup:\n",
    "        Mf_curr = Mt_curr - len(indices_pile)\n",
    "\n",
    "        # Decide mapping of pileup gammas:\n",
    "        for i_t in indices_pile:\n",
    "            map_to_pileup[i_t] = np.random.randint(0,Mf_curr) if Mf_curr > 0 else 0\n",
    "\n",
    "        Egs_piled = np.zeros(Mf_curr)\n",
    "        for i_t in range(Mt_curr):\n",
    "            Egs_piled[map_to_pileup[i_t]] += Egs_folded[i_t]\n",
    "\n",
    "    else:\n",
    "        # Do not include pileup:\n",
    "        Egs_piled = Egs_folded\n",
    "        # Mf_curr = Mt_curr\n",
    "\n",
    "    # print(\"Piled gammas =\", Egs_piled, flush=True)\n",
    "\n",
    "    return Egs_piled"
   ]
  },
  {
   "cell_type": "markdown",
   "metadata": {},
   "source": [
    "# Proof of principle, a single realization:\n",
    "Generate true events and plot them:"
   ]
  },
  {
   "cell_type": "code",
   "execution_count": 6,
   "metadata": {},
   "outputs": [],
   "source": [
    "Mt_max = 2 # Max true multiplicity 2\n",
    "events_t = np.zeros((N_events,Mt_max))\n",
    "Eg_gaussian_centroids = np.array([500,1700,1300,1000])\n",
    "for i_ev in range(N_events):\n",
    "    # Mt_curr = np.random.randint(low=1,high=(Mt_max+1))\n",
    "    Mt_curr = Mt_max # Testing, comparison to the first test we did with 2 gammas for the report\n",
    "    # Egs_current = np.random.uniform(low=0, high=Emax, size=Mt_curr)\n",
    "    Egs_current = np.random.normal(loc=Eg_gaussian_centroids[0:Mt_curr], scale=0.5*np.sqrt(Eg_gaussian_centroids[0:Mt_curr]), size=Mt_curr)\n",
    "    events_t[i_ev,0:Mt_curr] = Egs_current   \n"
   ]
  },
  {
   "cell_type": "code",
   "execution_count": 7,
   "metadata": {},
   "outputs": [
    {
     "data": {
      "image/png": "[encoded data removed]",
      "text/plain": [
       "<Figure size 432x288 with 2 Axes>"
      ]
     },
     "metadata": {
      "needs_background": "light"
     },
     "output_type": "display_data"
    }
   ],
   "source": [
    "# == Sort and plot true events ==\n",
    "E_t_array = E_resp_array\n",
    "N_Eg = len(E_t_array)\n",
    "counts_true = np.zeros((N_Eg, N_Eg))\n",
    "\n",
    "# Sort data:\n",
    "for i_ev in range(N_events):\n",
    "    counts_true[np.argmin(np.abs(E_t_array-events_t[i_ev,0])),np.argmin(np.abs(E_t_array-events_t[i_ev,1]))] += 1\n",
    "\n",
    "# Plot by Eg axes\n",
    "cbar = plt.pcolormesh(E_t_array, E_t_array, counts_true, cmap=\"jet\", norm=customLogNorm)\n",
    "plt.colorbar(cbar)\n",
    "plt.show()"
   ]
  },
  {
   "cell_type": "code",
   "execution_count": 8,
   "metadata": {},
   "outputs": [],
   "source": [
    "# Simulate pileup\n",
    "pileup = True\n",
    "p_pile = 1\n",
    "Mf_max = 1\n",
    "events_f = np.zeros((N_events, Mf_max))\n",
    "for i_ev in range(N_events):\n",
    "    Egs_folded = FoldEg(events_t[i_ev,:], Mf_max=4, Eg_arr=E_resp_array, response=R_2D, pileup=pileup, p_pile=p_pile)\n",
    "    events_f[i_ev,0:len(Egs_folded)] = Egs_folded"
   ]
  },
  {
   "cell_type": "code",
   "execution_count": 9,
   "metadata": {},
   "outputs": [
    {
     "data": {
      "image/png": "[encoded data removed]",
      "text/plain": [
       "<Figure size 432x288 with 1 Axes>"
      ]
     },
     "metadata": {
      "needs_background": "light"
     },
     "output_type": "display_data"
    }
   ],
   "source": [
    "# Sort and plot piled events (1-D spectrum since p_pile = 1)\n",
    "E_f_array = E_resp_array\n",
    "N_Eg = len(E_f_array)\n",
    "counts_folded = np.zeros((N_Eg))\n",
    "\n",
    "# Sort data:\n",
    "for i_ev in range(N_events):\n",
    "    counts_folded[np.argmin(np.abs(E_f_array-events_f[i_ev,0]))] += 1\n",
    "\n",
    "# Plot by Eg axes\n",
    "cbar = plt.plot(E_t_array, counts_folded)\n",
    "plt.show()"
   ]
  },
  {
   "cell_type": "markdown",
   "metadata": {},
   "source": [
    "# It works, now generate an ensemble of spectra"
   ]
  },
  {
   "cell_type": "code",
   "execution_count": 21,
   "metadata": {},
   "outputs": [
    {
     "name": "stdout",
     "output_type": "stream",
     "text": [
      "memory required to store events: 91.55 MB\n"
     ]
    },
    {
     "data": {
      "image/png": "[encoded data removed]",
      "text/plain": [
       "<Figure size 432x288 with 2 Axes>"
      ]
     },
     "metadata": {
      "needs_background": "light"
     },
     "output_type": "display_data"
    }
   ],
   "source": [
    "# Generate true events:\n",
    "N_ensemble = 200\n",
    "N_events = int(30*1e3) # Events per ensemble\n",
    "Mt_max = 2 # Max true multiplicity 2\n",
    "purge_files = True # Regenerate simulations?\n",
    "\n",
    "# Set calibration to use, should not be too large because of neural network\n",
    "a0, a1 = 0, 200 # keV\n",
    "N_nn = int(Emax/a1 - a0)\n",
    "\n",
    "fname_ensemble_counts_true = \"ensemble_counts_true-\"+str(N_ensemble)+\"members.npy\"\n",
    "if os.path.exists(fname_ensemble_counts_true) and not purge_files:\n",
    "    ensemble_counts_true = np.load(fname_ensemble_counts_true)\n",
    "    ensemble_counts_true = ensemble_counts_true.reshape((N_ensemble, N_nn, N_nn))\n",
    "else:\n",
    "    E_nn_array = np.linspace(a0, a0+(N_nn-1)*a1, N_nn)\n",
    "\n",
    "    memory_requirement = N_ensemble*N_events*Mt_max*8 / (1024)**2 # MB\n",
    "    print(\"memory required to store events: {:.2f} MB\".format(memory_requirement), flush=True)\n",
    "\n",
    "    ensemble_list_true = []\n",
    "    for i_ens in range(N_ensemble):\n",
    "        events_t = np.zeros((N_events,Mt_max))\n",
    "        # Draw gaussian centroids randomly up to half of the maximum response array energy\n",
    "        Eg_gaussian_centroids = np.random.uniform(low=300, high=E_resp_array[-1]/2, size=Mt_max)\n",
    "        for i_ev in range(N_events):\n",
    "            # Mt_curr = np.random.randint(low=1,high=(Mt_max+1))\n",
    "            Mt_curr = Mt_max # Testing, comparison to the first test we did with 2 gammas for the report\n",
    "            # Egs_current = np.random.uniform(low=0, high=Emax, size=Mt_curr)\n",
    "            Egs_current = np.random.normal(loc=Eg_gaussian_centroids[0:Mt_curr], scale=0.5*np.sqrt(Eg_gaussian_centroids[0:Mt_curr]), size=Mt_curr)\n",
    "            events_t[i_ev,0:Mt_curr] = Egs_current   \n",
    "        ensemble_list_true.append(events_t)\n",
    "\n",
    "    \n",
    "    \n",
    "    \n",
    "    # Sort each ensemble member and plot a random member:\n",
    "    E_t_array = E_resp_array\n",
    "    N_Eg = len(E_t_array)\n",
    "    index = np.random.randint(0,N_ensemble-1)\n",
    "\n",
    "    # Sort data:\n",
    "    events_t = ensemble_list_true[index]\n",
    "    #counts_true = np.zeros((N_nn, N_nn))\n",
    "    ensemble_counts_true = np.zeros((N_ensemble, N_nn, N_nn))\n",
    "    for i_ens in range(N_ensemble):\n",
    "        for i_ev in range(N_events):\n",
    "            ensemble_counts_true[i_ens, np.argmin(np.abs(E_nn_array-events_t[i_ev,0])), np.argmin(np.abs(E_nn_array-events_t[i_ev,1]))] += 1\n",
    "\n",
    "    # Plot by Eg axes\n",
    "    cbar = plt.pcolormesh(E_nn_array, E_nn_array, ensemble_counts_true[index,:,:], cmap=\"jet\", norm=customLogNorm)\n",
    "    plt.colorbar(cbar)\n",
    "    plt.title(\"Ensemble member \"+str(index))\n",
    "    plt.show()\n",
    "\n",
    "    np.save(fname_ensemble_counts_true, ensemble_counts_true)"
   ]
  },
  {
   "cell_type": "code",
   "execution_count": 22,
   "metadata": {
    "scrolled": true
   },
   "outputs": [
    {
     "data": {
      "image/png": "[encoded data removed]",
      "text/plain": [
       "<Figure size 432x288 with 1 Axes>"
      ]
     },
     "metadata": {
      "needs_background": "light"
     },
     "output_type": "display_data"
    }
   ],
   "source": [
    "# Simulate pileup for each member:\n",
    "pileup = True\n",
    "p_pile = 1\n",
    "Mf_max = 1\n",
    "\n",
    "fname_ensemble_counts_folded = \"ensemble_counts_folded-\"+str(N_ensemble)+\"members.npy\"\n",
    "if os.path.exists(fname_ensemble_counts_folded) and not purge_files:\n",
    "    ensemble_counts_folded = np.load(fname_ensemble_counts_folded)\n",
    "    ensemble_counts_folded = ensemble_counts_folded.reshape((N_ensemble, N_nn))\n",
    "else:\n",
    "    ensemble_list_folded = []\n",
    "    for i_ens in range(N_ensemble):\n",
    "        events_f = np.zeros((N_events, Mf_max))\n",
    "        for i_ev in range(N_events):\n",
    "            Egs_folded = FoldEg(events_t[i_ev,:], Mf_max=4, Eg_arr=E_resp_array, response=R_2D, pileup=pileup, p_pile=p_pile)\n",
    "            events_f[i_ev,0:len(Egs_folded)] = Egs_folded\n",
    "        ensemble_list_folded.append(events_f)\n",
    "    \n",
    "    \n",
    "    \n",
    "    # Sort all ensemble members and plot same random member as above:\n",
    "    ensemble_counts_folded = np.zeros((N_ensemble, N_nn))\n",
    "\n",
    "    # Sort data:\n",
    "    events_f = ensemble_list_folded[index]\n",
    "    for i_ens in range(N_ensemble):\n",
    "        for i_ev in range(N_events):\n",
    "            ensemble_counts_folded[i_ens, np.argmin(np.abs(E_nn_array-events_f[i_ev,0]))] += 1\n",
    "\n",
    "    # Plot by Eg axes\n",
    "    plt.step(E_nn_array, ensemble_counts_folded[index,:])\n",
    "    plt.title(\"Ensemble member \"+str(index))\n",
    "    plt.show()\n",
    "\n",
    "    np.save(fname_ensemble_counts_folded, ensemble_counts_folded)"
   ]
  },
  {
   "cell_type": "markdown",
   "metadata": {},
   "source": [
    "# Set up the neural network\n",
    "\n",
    "I try to adapt something from the TensorFlow tutorial: "
   ]
  },
  {
   "cell_type": "code",
   "execution_count": 23,
   "metadata": {},
   "outputs": [],
   "source": [
    "import tensorflow as tf\n",
    "from tensorflow import keras\n",
    "\n",
    "model = keras.Sequential([\n",
    "    keras.layers.Dense(N_nn, activation=tf.nn.relu,\n",
    "                       input_shape=(N_nn,)),\n",
    "    keras.layers.Dense(N_nn, activation=tf.nn.relu),\n",
    "    keras.layers.Dense(int(N_nn**2))\n",
    "  ])"
   ]
  },
  {
   "cell_type": "code",
   "execution_count": 24,
   "metadata": {},
   "outputs": [
    {
     "name": "stdout",
     "output_type": "stream",
     "text": [
      "train_in.shape = (200, 20)\n",
      "train_out.shape = (200, 400)\n"
     ]
    },
    {
     "data": {
      "text/plain": [
       "<matplotlib.colorbar.Colorbar at 0x7fdbbb1a4b38>"
      ]
     },
     "execution_count": 24,
     "metadata": {},
     "output_type": "execute_result"
    },
    {
     "data": {
      "image/png": "[encoded data removed]",
      "text/plain": [
       "<Figure size 432x288 with 2 Axes>"
      ]
     },
     "metadata": {
      "needs_background": "light"
     },
     "output_type": "display_data"
    }
   ],
   "source": [
    "train_in = ensemble_counts_folded / ensemble_counts_folded.sum(axis=1).reshape((ensemble_counts_folded.shape[0],1))\n",
    "print(\"train_in.shape =\", train_in.shape)\n",
    "train_out = ensemble_counts_true / ensemble_counts_true.sum(axis=(1,2)).reshape((ensemble_counts_folded.shape[0],1,1))\n",
    "train_out = train_out.reshape(N_ensemble, int(N_nn**2))\n",
    "print(\"train_out.shape =\", train_out.shape)\n",
    "plt.imshow(train_out[index].reshape(N_nn, N_nn), origin=\"lower\")\n",
    "plt.colorbar()"
   ]
  },
  {
   "cell_type": "code",
   "execution_count": 25,
   "metadata": {},
   "outputs": [],
   "source": [
    "optimizer = tf.train.RMSPropOptimizer(0.001)\n",
    "\n",
    "model.compile(loss='mse',\n",
    "            optimizer=optimizer,\n",
    "            metrics=['mae'])"
   ]
  },
  {
   "cell_type": "code",
   "execution_count": 26,
   "metadata": {},
   "outputs": [
    {
     "name": "stdout",
     "output_type": "stream",
     "text": [
      "\n",
      "...................................................................................................."
     ]
    }
   ],
   "source": [
    "# Display training progress by printing a single dot for each completed epoch\n",
    "class PrintDot(keras.callbacks.Callback):\n",
    "  def on_epoch_end(self, epoch, logs):\n",
    "    if epoch % 100 == 0: print('')\n",
    "    print('.', end='')\n",
    "EPOCHS = 100\n",
    "history = model.fit(train_in, train_out, epochs=EPOCHS,\n",
    "                    validation_split=0.2, verbose=0,\n",
    "                    callbacks=[PrintDot()])"
   ]
  },
  {
   "cell_type": "code",
   "execution_count": 27,
   "metadata": {},
   "outputs": [
    {
     "data": {
      "image/png": "[encoded data removed]",
      "text/plain": [
       "<Figure size 432x288 with 1 Axes>"
      ]
     },
     "metadata": {
      "needs_background": "light"
     },
     "output_type": "display_data"
    }
   ],
   "source": [
    "import matplotlib.pyplot as plt\n",
    "\n",
    "\n",
    "def plot_history(history):\n",
    "  plt.figure()\n",
    "  plt.xlabel('Epoch')\n",
    "  plt.ylabel('Mean Abs Error')\n",
    "  plt.plot(history.epoch, np.array(history.history['mean_absolute_error']),\n",
    "           label='Train Loss')\n",
    "  plt.plot(history.epoch, np.array(history.history['val_mean_absolute_error']),\n",
    "           label = 'Val loss')\n",
    "  plt.legend()\n",
    "  #plt.ylim([0, 5])\n",
    "\n",
    "plot_history(history)"
   ]
  },
  {
   "cell_type": "code",
   "execution_count": 30,
   "metadata": {},
   "outputs": [],
   "source": [
    "# Generate and check against new test data:\n",
    "Mt_max = 2 # Max true multiplicity 2\n",
    "events_t = np.zeros((N_events,Mt_max))\n",
    "Eg_gaussian_centroids = np.array([500,1700,1300,1000])\n",
    "# Simulate pileup\n",
    "pileup = True\n",
    "p_pile = 1\n",
    "Mf_max = 1\n",
    "events_f = np.zeros((N_events, Mf_max))\n",
    "for i_ev in range(N_events):\n",
    "    # Mt_curr = np.random.randint(low=1,high=(Mt_max+1))\n",
    "    Mt_curr = Mt_max # Testing, comparison to the first test we did with 2 gammas for the report\n",
    "    # Egs_current = np.random.uniform(low=0, high=Emax, size=Mt_curr)\n",
    "    Egs_current = np.random.normal(loc=Eg_gaussian_centroids[0:Mt_curr], scale=0.5*np.sqrt(Eg_gaussian_centroids[0:Mt_curr]), size=Mt_curr)\n",
    "    events_t[i_ev,0:Mt_curr] = Egs_current \n",
    "    Egs_folded = FoldEg(events_t[i_ev,:], Mf_max=4, Eg_arr=E_resp_array, response=R_2D, pileup=pileup, p_pile=p_pile)\n",
    "    events_f[i_ev,0:len(Egs_folded)] = Egs_folded  \n",
    "\n",
    "    \n",
    "# Sort:\n",
    "counts_true = np.zeros((N_nn,N_nn))\n",
    "counts_folded = np.zeros((N_nn))\n",
    "for i_ev in range(N_events):\n",
    "    counts_true[np.argmin(np.abs(E_nn_array-events_t[i_ev,0])), np.argmin(np.abs(E_nn_array-events_t[i_ev,1]))] += 1\n",
    "    counts_folded[np.argmin(np.abs(E_nn_array-events_f[i_ev,0]))] += 1\n",
    "    \n",
    "counts_true /= counts_true.sum()\n",
    "counts_folded /= counts_folded.sum()\n",
    "    \n"
   ]
  },
  {
   "cell_type": "code",
   "execution_count": 40,
   "metadata": {},
   "outputs": [
    {
     "ename": "ValueError",
     "evalue": "Error when checking input: expected dense_3_input to have shape (20,) but got array with shape (1,)",
     "output_type": "error",
     "traceback": [
      "\u001b[0;31m---------------------------------------------------------------------------\u001b[0m",
      "\u001b[0;31mValueError\u001b[0m                                Traceback (most recent call last)",
      "\u001b[0;32m<ipython-input-40-c1225d8c3dc1>\u001b[0m in \u001b[0;36m<module>\u001b[0;34m()\u001b[0m\n\u001b[1;32m      5\u001b[0m \u001b[0mcbar2\u001b[0m \u001b[0;34m=\u001b[0m \u001b[0max2\u001b[0m\u001b[0;34m.\u001b[0m\u001b[0mimshow\u001b[0m\u001b[0;34m(\u001b[0m\u001b[0mcounts_true\u001b[0m\u001b[0;34m,\u001b[0m \u001b[0morigin\u001b[0m\u001b[0;34m=\u001b[0m\u001b[0;34m\"lower\"\u001b[0m\u001b[0;34m)\u001b[0m\u001b[0;34m\u001b[0m\u001b[0m\n\u001b[1;32m      6\u001b[0m \u001b[0;34m\u001b[0m\u001b[0m\n\u001b[0;32m----> 7\u001b[0;31m \u001b[0mcounts_predicted\u001b[0m \u001b[0;34m=\u001b[0m \u001b[0mmodel\u001b[0m\u001b[0;34m.\u001b[0m\u001b[0mpredict\u001b[0m\u001b[0;34m(\u001b[0m\u001b[0mcounts_folded\u001b[0m\u001b[0;34m)\u001b[0m\u001b[0;34m\u001b[0m\u001b[0m\n\u001b[0m\u001b[1;32m      8\u001b[0m \u001b[0mcounts_predicted\u001b[0m \u001b[0;34m=\u001b[0m \u001b[0mcounts_predicted\u001b[0m\u001b[0;34m.\u001b[0m\u001b[0mreshape\u001b[0m\u001b[0;34m(\u001b[0m\u001b[0;34m(\u001b[0m\u001b[0mN_nn\u001b[0m\u001b[0;34m,\u001b[0m \u001b[0mN_nn\u001b[0m\u001b[0;34m)\u001b[0m\u001b[0;34m)\u001b[0m\u001b[0;34m\u001b[0m\u001b[0m\n\u001b[1;32m      9\u001b[0m \u001b[0mcbar3\u001b[0m \u001b[0;34m=\u001b[0m \u001b[0max3\u001b[0m\u001b[0;34m.\u001b[0m\u001b[0mimshow\u001b[0m\u001b[0;34m(\u001b[0m\u001b[0;34m)\u001b[0m\u001b[0;34m\u001b[0m\u001b[0m\n",
      "\u001b[0;32m/usr/local/lib/python3.6/dist-packages/tensorflow/python/keras/engine/training.py\u001b[0m in \u001b[0;36mpredict\u001b[0;34m(self, x, batch_size, verbose, steps)\u001b[0m\n\u001b[1;32m   1484\u001b[0m     \u001b[0;31m# Validate and standardize user data.\u001b[0m\u001b[0;34m\u001b[0m\u001b[0;34m\u001b[0m\u001b[0m\n\u001b[1;32m   1485\u001b[0m     x, _, _ = self._standardize_user_data(\n\u001b[0;32m-> 1486\u001b[0;31m         x, check_steps=True, steps_name='steps', steps=steps)\n\u001b[0m\u001b[1;32m   1487\u001b[0m \u001b[0;34m\u001b[0m\u001b[0m\n\u001b[1;32m   1488\u001b[0m     \u001b[0;32mif\u001b[0m \u001b[0mcontext\u001b[0m\u001b[0;34m.\u001b[0m\u001b[0mexecuting_eagerly\u001b[0m\u001b[0;34m(\u001b[0m\u001b[0;34m)\u001b[0m\u001b[0;34m:\u001b[0m\u001b[0;34m\u001b[0m\u001b[0m\n",
      "\u001b[0;32m/usr/local/lib/python3.6/dist-packages/tensorflow/python/keras/engine/training.py\u001b[0m in \u001b[0;36m_standardize_user_data\u001b[0;34m(self, x, y, sample_weight, class_weight, batch_size, check_steps, steps_name, steps, validation_split)\u001b[0m\n\u001b[1;32m    876\u001b[0m         \u001b[0mfeed_input_shapes\u001b[0m\u001b[0;34m,\u001b[0m\u001b[0;34m\u001b[0m\u001b[0m\n\u001b[1;32m    877\u001b[0m         \u001b[0mcheck_batch_axis\u001b[0m\u001b[0;34m=\u001b[0m\u001b[0;32mFalse\u001b[0m\u001b[0;34m,\u001b[0m  \u001b[0;31m# Don't enforce the batch size.\u001b[0m\u001b[0;34m\u001b[0m\u001b[0m\n\u001b[0;32m--> 878\u001b[0;31m         exception_prefix='input')\n\u001b[0m\u001b[1;32m    879\u001b[0m \u001b[0;34m\u001b[0m\u001b[0m\n\u001b[1;32m    880\u001b[0m     \u001b[0;32mif\u001b[0m \u001b[0my\u001b[0m \u001b[0;32mis\u001b[0m \u001b[0;32mnot\u001b[0m \u001b[0;32mNone\u001b[0m\u001b[0;34m:\u001b[0m\u001b[0;34m\u001b[0m\u001b[0m\n",
      "\u001b[0;32m/usr/local/lib/python3.6/dist-packages/tensorflow/python/keras/engine/training_utils.py\u001b[0m in \u001b[0;36mstandardize_input_data\u001b[0;34m(data, names, shapes, check_batch_axis, exception_prefix)\u001b[0m\n\u001b[1;32m    189\u001b[0m                 \u001b[0;34m'Error when checking '\u001b[0m \u001b[0;34m+\u001b[0m \u001b[0mexception_prefix\u001b[0m \u001b[0;34m+\u001b[0m \u001b[0;34m': expected '\u001b[0m \u001b[0;34m+\u001b[0m\u001b[0;34m\u001b[0m\u001b[0m\n\u001b[1;32m    190\u001b[0m                 \u001b[0mnames\u001b[0m\u001b[0;34m[\u001b[0m\u001b[0mi\u001b[0m\u001b[0;34m]\u001b[0m \u001b[0;34m+\u001b[0m \u001b[0;34m' to have shape '\u001b[0m \u001b[0;34m+\u001b[0m \u001b[0mstr\u001b[0m\u001b[0;34m(\u001b[0m\u001b[0mshape\u001b[0m\u001b[0;34m)\u001b[0m \u001b[0;34m+\u001b[0m\u001b[0;34m\u001b[0m\u001b[0m\n\u001b[0;32m--> 191\u001b[0;31m                 ' but got array with shape ' + str(data_shape))\n\u001b[0m\u001b[1;32m    192\u001b[0m   \u001b[0;32mreturn\u001b[0m \u001b[0mdata\u001b[0m\u001b[0;34m\u001b[0m\u001b[0m\n\u001b[1;32m    193\u001b[0m \u001b[0;34m\u001b[0m\u001b[0m\n",
      "\u001b[0;31mValueError\u001b[0m: Error when checking input: expected dense_3_input to have shape (20,) but got array with shape (1,)"
     ]
    },
    {
     "data": {
      "image/png": "[encoded data removed]",
      "text/plain": [
       "<Figure size 432x288 with 3 Axes>"
      ]
     },
     "metadata": {
      "needs_background": "light"
     },
     "output_type": "display_data"
    }
   ],
   "source": [
    "# Plot true and predicted\n",
    "f, (ax1, ax2, ax3) = plt.subplots(1,3)\n",
    "\n",
    "ax1.step(E_nn_array, counts_folded)\n",
    "cbar2 = ax2.imshow(counts_true, origin=\"lower\")\n",
    "\n",
    "counts_predicted = model.predict(counts_folded)\n",
    "counts_predicted = counts_predicted.reshape((N_nn, N_nn))\n",
    "cbar3 = ax3.imshow()\n",
    "\n",
    "f.colorbar(cbar2, ax=ax2)"
   ]
  },
  {
   "cell_type": "code",
   "execution_count": null,
   "metadata": {},
   "outputs": [],
   "source": []
  }
 ],
 "metadata": {
  "kernelspec": {
   "display_name": "Python 3",
   "language": "python",
   "name": "python3"
  },
  "language_info": {
   "codemirror_mode": {
    "name": "ipython",
    "version": 3
   },
   "file_extension": ".py",
   "mimetype": "text/x-python",
   "name": "python",
   "nbconvert_exporter": "python",
   "pygments_lexer": "ipython3",
   "version": "3.6.6"
  }
 },
 "nbformat": 4,
 "nbformat_minor": 2
}
