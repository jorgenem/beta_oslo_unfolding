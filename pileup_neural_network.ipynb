{
 "cells": [
  {
   "cell_type": "markdown",
   "metadata": {},
   "source": [
    "I am testing using a neural network to recognise patterns in the pileup spectra, so that we can revert from a piled-up 1-D spectrum to the underlying 2-D spectrum. First I simulate pairs of piled, original spectra, then I make the network."
   ]
  },
  {
   "cell_type": "code",
   "execution_count": 1,
   "metadata": {},
   "outputs": [],
   "source": [
    "from importlib import reload\n",
    "from utilities import *\n",
    "import numpy as np\n",
    "import matplotlib.pyplot as plt\n",
    "from matplotlib.colors import LogNorm"
   ]
  },
  {
   "cell_type": "markdown",
   "metadata": {},
   "source": [
    "# Simulate spectra. \n",
    "Assume only multiplicity 2, and set the pileup probability to 1 for this test. \n",
    "Later we must check how an energy-dependent pileup probability affects things."
   ]
  },
  {
   "cell_type": "code",
   "execution_count": 2,
   "metadata": {},
   "outputs": [],
   "source": [
    "# Set some global variables:\n",
    "N_events = int(30*1e3)\n",
    "customLogNorm = LogNorm(vmin=1e0, vmax=N_events)\n",
    "np.random.seed(124356)"
   ]
  },
  {
   "cell_type": "code",
   "execution_count": 3,
   "metadata": {},
   "outputs": [],
   "source": [
    "# Import response matrix\n",
    "\n",
    "fname_resp = 'resp-SuN2015-20keV-1p0FWHM.dat'\n",
    "fname_resp_mat = 'response_matrix-SuN2015-20keV-1p0FWHM.m'\n",
    "# fname_resp = 'resp-SuN2015-50keV-1p0FWHM.dat'\n",
    "# fname_resp_mat = 'response_matrix-SuN2015-50keV-1p0FWHM.m'\n",
    "R_2D, cal_resp, E_resp_array, tmp = read_mama_2D(fname_resp_mat)\n",
    "# R_2D = div0(R_2D , R_2D.sum(rebin_axis=1))\n",
    "\n",
    "# Read efficiency and other 1-D response variables:\n",
    "resp = []\n",
    "with open(fname_resp) as file:\n",
    "    # Read line by line as there is crazyness in the file format\n",
    "    lines = file.readlines()\n",
    "    for i in range(4,len(lines)):\n",
    "        try:\n",
    "            row = np.array(lines[i].split(), dtype=\"double\")\n",
    "            resp.append(row)\n",
    "        except:\n",
    "            break\n",
    "\n",
    "resp = np.array(resp)\n",
    "# Name the columns for ease of reading\n",
    "# FWHM = resp[:,1]\n",
    "eff = resp[:,2]\n",
    "# pf = resp[:,3]\n",
    "# pc = resp[:,4]\n",
    "# ps = resp[:,5]\n",
    "# pd = resp[:,6]\n",
    "# pa = resp[:,7]\n",
    "\n",
    "\n",
    "\n",
    "Emax = 4000 # Crop response matrix (and thus also event generation) to efficiate computation\n",
    "i_Emax = np.argmin(np.abs(E_resp_array-Emax))\n",
    "R_2D = R_2D[0:i_Emax,0:i_Emax]\n",
    "E_resp_array = E_resp_array[0:i_Emax]\n",
    "\n",
    "\n",
    "\n",
    "# Assumed lower threshold for gammas in response matrix\n",
    "E_thres = 100\n",
    "i_thres = np.argmin(np.abs(E_resp_array - E_thres))\n",
    "R_2D[:,:i_thres] = 0\n",
    "\n",
    "for i in range(R_2D.shape[0]):\n",
    "    norm = R_2D[i,:].sum()\n",
    "    if(norm>0):\n",
    "        R_2D[i,:] = R_2D[i,:] / norm #* eff[i]\n",
    "    else:\n",
    "        R_2D[i,:] = 0"
   ]
  },
  {
   "cell_type": "code",
   "execution_count": 7,
   "metadata": {},
   "outputs": [],
   "source": [
    "# === Folding function for a single event ===\n",
    "def FoldEg(Egs_t, Mf_max, Eg_arr, response, pileup=True, p_pile=0.2):\n",
    "    \"\"\"\n",
    "    This function folds all Egs from a single event.\n",
    "    \"\"\"\n",
    "\n",
    "    \n",
    "    # print(\"Folding. True gammas =\", Egs_t, flush=True)\n",
    "    Mt_curr = len(Egs_t[Egs_t>0]) # Number of true gammas\n",
    "\n",
    "    \n",
    "    Mf_curr = Mt_curr # Folded multiplicity is the same as true because we do pileup after energy folding\n",
    "\n",
    "    # Now proceed to fold each gamma with detector response:\n",
    "    Egs_folded = np.zeros(Mf_curr)\n",
    "    for i in range(Mf_curr):\n",
    "        Eg = Egs_t[i]\n",
    "        index_Eg = np.argmin(np.abs(Eg_arr - Eg))\n",
    "        if R_2D[index_Eg,:].sum() > 0:\n",
    "            # choosing rand accounts for the efficiency; As the efficiency read from file currently\n",
    "            # does not always correspons with the counts in R_2D, see #3, we need two if tests\n",
    "            rand = np.random.uniform()\n",
    "            if rand <= eff[index_Eg]:\n",
    "                # If the gamma is not lost to efficiency, redistribute its energy somewhere in the response:\n",
    "                Eg_folded = np.random.choice(Eg_arr, p=response[index_Eg,:])\n",
    "            else: \n",
    "                Eg_folded = 0 # Give Energy 0 to events that are not recorded.\n",
    "        else: \n",
    "            Eg_folded = 0 # Give Energy 0 to events that are not recorded (below detector threshold)\n",
    "\n",
    "        Egs_folded[i] = Eg_folded\n",
    "\n",
    "\n",
    "    if pileup: # Is pileup desired?\n",
    "        # For each folded gamma, assign it to pileup with probability p_pile:\n",
    "        indices_pile = [] # Store indices in Egs_folded\n",
    "        counter_nopile = 0\n",
    "        map_to_pileup = {} # Map the indices that are *not* pileup to a new index set so that there are no index holes\n",
    "                        # For example if Mt = 3 and index 1 is pileup, then map_nopile = {0:0, 2:1}.\n",
    "                        # Then we decide which of the new indices to add each pileup event to.\n",
    "        for i_t in range(Mt_curr):\n",
    "            # Make sure at least one gamma is not assigned to pileup:\n",
    "            if i_t == Mt_curr-1 and counter_nopile == 0:\n",
    "                map_to_pileup[i_t] = counter_nopile\n",
    "                counter_nopile += 1\n",
    "                break\n",
    "\n",
    "            # Also make sure no more than 4 gammas remain, by\n",
    "            # setting pileup probability to 1 if we already have 4 non-piled\n",
    "            if counter_nopile == 4:\n",
    "                p_pile = 1\n",
    "\n",
    "            r_pile = np.random.uniform()\n",
    "            if r_pile < p_pile:\n",
    "                # This gamma should be piled.\n",
    "                indices_pile.append(i_t)\n",
    "            else:\n",
    "                # This gamma should not\n",
    "                map_to_pileup[i_t] = counter_nopile\n",
    "                counter_nopile += 1\n",
    "\n",
    "        # Calculate multiplicity of current event after pileup:\n",
    "        Mf_curr = Mt_curr - len(indices_pile)\n",
    "\n",
    "        # Decide mapping of pileup gammas:\n",
    "        for i_t in indices_pile:\n",
    "            map_to_pileup[i_t] = np.random.randint(0,Mf_curr) if Mf_curr > 0 else 0\n",
    "\n",
    "        Egs_piled = np.zeros(Mf_curr)\n",
    "        for i_t in range(Mt_curr):\n",
    "            Egs_piled[map_to_pileup[i_t]] += Egs_folded[i_t]\n",
    "\n",
    "    else:\n",
    "        # Do not include pileup:\n",
    "        Egs_piled = Egs_folded\n",
    "        # Mf_curr = Mt_curr\n",
    "\n",
    "    # print(\"Piled gammas =\", Egs_piled, flush=True)\n",
    "\n",
    "    return Egs_piled"
   ]
  },
  {
   "cell_type": "markdown",
   "metadata": {},
   "source": [
    "# Proof of principle, a single realization:\n",
    "Generate true events and plot them:"
   ]
  },
  {
   "cell_type": "code",
   "execution_count": 26,
   "metadata": {},
   "outputs": [],
   "source": [
    "Mt_max = 2 # Max true multiplicity 2\n",
    "events_t = np.zeros((N_events,Mt_max))\n",
    "Eg_gaussian_centroids = np.array([500,1700,1300,1000])\n",
    "for i_ev in range(N_events):\n",
    "    # Mt_curr = np.random.randint(low=1,high=(Mt_max+1))\n",
    "    Mt_curr = Mt_max # Testing, comparison to the first test we did with 2 gammas for the report\n",
    "    # Egs_current = np.random.uniform(low=0, high=Emax, size=Mt_curr)\n",
    "    Egs_current = np.random.normal(loc=Eg_gaussian_centroids[0:Mt_curr], scale=0.5*np.sqrt(Eg_gaussian_centroids[0:Mt_curr]), size=Mt_curr)\n",
    "    events_t[i_ev,0:Mt_curr] = Egs_current   \n"
   ]
  },
  {
   "cell_type": "code",
   "execution_count": 27,
   "metadata": {},
   "outputs": [
    {
     "data": {
      "image/png": "[encoded data removed]",
      "text/plain": [
       "<Figure size 432x288 with 2 Axes>"
      ]
     },
     "metadata": {
      "needs_background": "light"
     },
     "output_type": "display_data"
    }
   ],
   "source": [
    "# == Sort and plot true events ==\n",
    "E_t_array = E_resp_array\n",
    "N_Eg = len(E_t_array)\n",
    "counts_true = np.zeros((N_Eg, N_Eg))\n",
    "\n",
    "# Sort data:\n",
    "for i_ev in range(N_events):\n",
    "    counts_true[np.argmin(np.abs(E_t_array-events_t[i_ev,0])),np.argmin(np.abs(E_t_array-events_t[i_ev,1]))] += 1\n",
    "\n",
    "# Plot by Eg axes\n",
    "cbar = plt.pcolormesh(E_t_array, E_t_array, counts_true, cmap=\"jet\", norm=customLogNorm)\n",
    "plt.colorbar(cbar)\n",
    "plt.show()"
   ]
  },
  {
   "cell_type": "code",
   "execution_count": 28,
   "metadata": {},
   "outputs": [],
   "source": [
    "# Simulate pileup\n",
    "pileup = True\n",
    "p_pile = 1\n",
    "Mf_max = 1\n",
    "events_f = np.zeros((N_events, Mf_max))\n",
    "for i_ev in range(N_events):\n",
    "    Egs_folded = FoldEg(events_t[i_ev,:], Mf_max=4, Eg_arr=E_resp_array, response=R_2D, pileup=pileup, p_pile=p_pile)\n",
    "    events_f[i_ev,0:len(Egs_folded)] = Egs_folded"
   ]
  },
  {
   "cell_type": "code",
   "execution_count": 29,
   "metadata": {},
   "outputs": [
    {
     "data": {
      "image/png": "[encoded data removed]",
      "text/plain": [
       "<Figure size 432x288 with 1 Axes>"
      ]
     },
     "metadata": {
      "needs_background": "light"
     },
     "output_type": "display_data"
    }
   ],
   "source": [
    "# Sort and plot piled events (1-D spectrum since p_pile = 1)\n",
    "E_f_array = E_resp_array\n",
    "N_Eg = len(E_f_array)\n",
    "counts_folded = np.zeros((N_Eg))\n",
    "\n",
    "# Sort data:\n",
    "for i_ev in range(N_events):\n",
    "    counts_folded[np.argmin(np.abs(E_f_array-events_f[i_ev,0]))] += 1\n",
    "\n",
    "# Plot by Eg axes\n",
    "cbar = plt.plot(E_t_array, counts_folded)\n",
    "plt.show()"
   ]
  },
  {
   "cell_type": "markdown",
   "metadata": {},
   "source": [
    "# It works, now generate an ensemble of spectra"
   ]
  },
  {
   "cell_type": "code",
   "execution_count": 10,
   "metadata": {},
   "outputs": [
    {
     "name": "stdout",
     "output_type": "stream",
     "text": [
      "memory required to store events: 91.55 MB\n"
     ]
    },
    {
     "data": {
      "image/png": "[encoded data removed]",
      "text/plain": [
       "<Figure size 432x288 with 2 Axes>"
      ]
     },
     "metadata": {
      "needs_background": "light"
     },
     "output_type": "display_data"
    }
   ],
   "source": [
    "# Generate true events:\n",
    "N_ensemble = 200\n",
    "N_events = int(30*1e3) # Events per ensemble\n",
    "Mt_max = 2 # Max true multiplicity 2\n",
    "\n",
    "\n",
    "# TODO add import from file if present\n",
    "import os\n",
    "fname_ensemble_counts_true = \"ensemble_counts_true-\"+str(N_ensemble)+\"members.npy\"\n",
    "if False:\n",
    "    print(\"foo\")\n",
    "    #ensemble_counts_true = np.load()\n",
    "\n",
    "\n",
    "# Set calibration to use, should not be too large because of neural network\n",
    "a0, a1 = 0, 200 # keV\n",
    "N_nn = int(Emax/a1 - a0)\n",
    "E_nn_array = np.linspace(a0, a0+(N_nn-1)*a1, N_nn)\n",
    "\n",
    "memory_requirement = N_ensemble*N_events*Mt_max*8 / (1024)**2 # MB\n",
    "print(\"memory required to store events: {:.2f} MB\".format(memory_requirement), flush=True)\n",
    "\n",
    "ensemble_list_true = []\n",
    "for i_ens in range(N_ensemble):\n",
    "    events_t = np.zeros((N_events,Mt_max))\n",
    "    # Draw gaussian centroids randomly up to half of the maximum response array energy\n",
    "    Eg_gaussian_centroids = np.random.uniform(low=300, high=E_resp_array[-1]/2, size=Mt_max)\n",
    "    for i_ev in range(N_events):\n",
    "        # Mt_curr = np.random.randint(low=1,high=(Mt_max+1))\n",
    "        Mt_curr = Mt_max # Testing, comparison to the first test we did with 2 gammas for the report\n",
    "        # Egs_current = np.random.uniform(low=0, high=Emax, size=Mt_curr)\n",
    "        Egs_current = np.random.normal(loc=Eg_gaussian_centroids[0:Mt_curr], scale=0.5*np.sqrt(Eg_gaussian_centroids[0:Mt_curr]), size=Mt_curr)\n",
    "        events_t[i_ev,0:Mt_curr] = Egs_current   \n",
    "    ensemble_list_true.append(events_t)\n",
    "\n",
    "    \n",
    "    \n",
    "    \n",
    "# Sort each ensemble member and plot a random member:\n",
    "E_t_array = E_resp_array\n",
    "N_Eg = len(E_t_array)\n",
    "index = np.random.randint(0,N_ensemble-1)\n",
    "\n",
    "# Sort data:\n",
    "events_t = ensemble_list_true[index]\n",
    "#counts_true = np.zeros((N_nn, N_nn))\n",
    "ensemble_counts_true = np.zeros((N_ensemble, N_nn, N_nn))\n",
    "for i_ens in range(N_ensemble):\n",
    "    for i_ev in range(N_events):\n",
    "        ensemble_counts_true[i_ens, np.argmin(np.abs(E_nn_array-events_t[i_ev,0])), np.argmin(np.abs(E_nn_array-events_t[i_ev,1]))] += 1\n",
    "\n",
    "# Plot by Eg axes\n",
    "cbar = plt.pcolormesh(E_nn_array, E_nn_array, ensemble_counts_true[index,:,:], cmap=\"jet\", norm=customLogNorm)\n",
    "plt.colorbar(cbar)\n",
    "plt.title(\"Ensemble member \"+str(index))\n",
    "plt.show()\n",
    "\n",
    "np.save(fname_ensemble_counts_true, ensemble_counts_true)"
   ]
  },
  {
   "cell_type": "code",
   "execution_count": 11,
   "metadata": {},
   "outputs": [],
   "source": [
    "np.save(\"ensemble_counts_true-\"+str(N_ensemble)+\"members.npy\", ensemble_counts_true)"
   ]
  },
  {
   "cell_type": "code",
   "execution_count": 15,
   "metadata": {
    "scrolled": true
   },
   "outputs": [
    {
     "data": {
      "image/png": "[encoded data removed]",
      "text/plain": [
       "<Figure size 432x288 with 1 Axes>"
      ]
     },
     "metadata": {
      "needs_background": "light"
     },
     "output_type": "display_data"
    }
   ],
   "source": [
    "# Simulate pileup for each member:\n",
    "pileup = True\n",
    "p_pile = 1\n",
    "Mf_max = 1\n",
    "\n",
    "ensemble_list_folded = []\n",
    "for i_ens in range(N_ensemble):\n",
    "    events_f = np.zeros((N_events, Mf_max))\n",
    "    for i_ev in range(N_events):\n",
    "        Egs_folded = FoldEg(events_t[i_ev,:], Mf_max=4, Eg_arr=E_resp_array, response=R_2D, pileup=pileup, p_pile=p_pile)\n",
    "        events_f[i_ev,0:len(Egs_folded)] = Egs_folded\n",
    "    ensemble_list_folded.append(events_f)\n",
    "    \n",
    "    \n",
    "    \n",
    "# Sort all ensemble members and plot same random member as above:\n",
    "ensemble_counts_folded = np.zeros((N_ensemble, N_nn))\n",
    "\n",
    "# Sort data:\n",
    "events_f = ensemble_list_folded[index]\n",
    "for i_ens in range(N_ensemble):\n",
    "    for i_ev in range(N_events):\n",
    "        ensemble_counts_folded[i_ens, np.argmin(np.abs(E_nn_array-events_f[i_ev,0]))] += 1\n",
    "\n",
    "# Plot by Eg axes\n",
    "plt.step(E_nn_array, ensemble_counts_folded[index,:])\n",
    "plt.title(\"Ensemble member \"+str(index))\n",
    "plt.show()\n",
    "\n",
    "np.save(\"ensemble_counts_folded-\"+str(N_ensemble)+\"members.npy\", ensemble_counts_true)"
   ]
  },
  {
   "cell_type": "markdown",
   "metadata": {},
   "source": [
    "# Set up the neural network\n",
    "\n",
    "I try to adapt something from the TensorFlow tutorial: "
   ]
  },
  {
   "cell_type": "code",
   "execution_count": 20,
   "metadata": {},
   "outputs": [],
   "source": [
    "import tensorflow as tf\n",
    "from tensorflow import keras\n",
    "\n",
    "model = keras.Sequential([\n",
    "    keras.layers.Dense(N_nn, activation=tf.nn.relu,\n",
    "                       input_shape=(N_nn,)),\n",
    "    keras.layers.Dense(N_nn, activation=tf.nn.relu),\n",
    "    keras.layers.Dense(int(N_nn**2))\n",
    "  ])"
   ]
  },
  {
   "cell_type": "code",
   "execution_count": 21,
   "metadata": {},
   "outputs": [
    {
     "name": "stdout",
     "output_type": "stream",
     "text": [
      "train_in.shape = (200, 20)\n",
      "train_out.shape = (200, 400)\n"
     ]
    },
    {
     "data": {
      "text/plain": [
       "<matplotlib.colorbar.Colorbar at 0x7f5e5bac6e48>"
      ]
     },
     "execution_count": 21,
     "metadata": {},
     "output_type": "execute_result"
    },
    {
     "data": {
      "image/png": "[encoded data removed]",
      "text/plain": [
       "<Figure size 432x288 with 2 Axes>"
      ]
     },
     "metadata": {
      "needs_background": "light"
     },
     "output_type": "display_data"
    }
   ],
   "source": [
    "train_in = ensemble_counts_folded / ensemble_counts_folded.sum(axis=1).reshape((ensemble_counts_folded.shape[0],1))\n",
    "print(\"train_in.shape =\", train_in.shape)\n",
    "train_out = ensemble_counts_true / ensemble_counts_true.sum(axis=(1,2)).reshape((ensemble_counts_folded.shape[0],1,1))\n",
    "train_out = train_out.reshape(N_ensemble, int(N_nn**2))\n",
    "print(\"train_out.shape =\", train_out.shape)\n",
    "plt.imshow(train_out[index].reshape(N_nn, N_nn), origin=\"lower\")\n",
    "plt.colorbar()"
   ]
  },
  {
   "cell_type": "code",
   "execution_count": 23,
   "metadata": {},
   "outputs": [],
   "source": [
    "optimizer = tf.train.RMSPropOptimizer(0.001)\n",
    "\n",
    "model.compile(loss='mse',\n",
    "            optimizer=optimizer,\n",
    "            metrics=['mae'])"
   ]
  },
  {
   "cell_type": "code",
   "execution_count": 24,
   "metadata": {},
   "outputs": [
    {
     "name": "stdout",
     "output_type": "stream",
     "text": [
      "Train on 160 samples, validate on 40 samples\n",
      "Epoch 1/100\n",
      "160/160 [==============================] - 0s 1ms/step - loss: 0.0027 - mean_absolute_error: 0.0160 - val_loss: 0.0027 - val_mean_absolute_error: 0.0160\n",
      "\n",
      ".Epoch 2/100\n",
      "160/160 [==============================] - 0s 78us/step - loss: 0.0027 - mean_absolute_error: 0.0160 - val_loss: 0.0027 - val_mean_absolute_error: 0.0160\n",
      ".Epoch 3/100\n",
      "160/160 [==============================] - 0s 82us/step - loss: 0.0027 - mean_absolute_error: 0.0160 - val_loss: 0.0027 - val_mean_absolute_error: 0.0160\n",
      ".Epoch 4/100\n",
      "160/160 [==============================] - 0s 69us/step - loss: 0.0027 - mean_absolute_error: 0.0160 - val_loss: 0.0027 - val_mean_absolute_error: 0.0160\n",
      ".Epoch 5/100\n",
      "160/160 [==============================] - 0s 58us/step - loss: 0.0027 - mean_absolute_error: 0.0160 - val_loss: 0.0027 - val_mean_absolute_error: 0.0160\n",
      ".Epoch 6/100\n",
      "160/160 [==============================] - 0s 123us/step - loss: 0.0027 - mean_absolute_error: 0.0160 - val_loss: 0.0027 - val_mean_absolute_error: 0.0160\n",
      ".Epoch 7/100\n",
      "160/160 [==============================] - 0s 40us/step - loss: 0.0027 - mean_absolute_error: 0.0160 - val_loss: 0.0027 - val_mean_absolute_error: 0.0159\n",
      ".Epoch 8/100\n",
      "160/160 [==============================] - 0s 151us/step - loss: 0.0027 - mean_absolute_error: 0.0159 - val_loss: 0.0027 - val_mean_absolute_error: 0.0159\n",
      ".Epoch 9/100\n",
      "160/160 [==============================] - 0s 79us/step - loss: 0.0027 - mean_absolute_error: 0.0159 - val_loss: 0.0027 - val_mean_absolute_error: 0.0159\n",
      ".Epoch 10/100\n",
      "160/160 [==============================] - 0s 170us/step - loss: 0.0027 - mean_absolute_error: 0.0159 - val_loss: 0.0027 - val_mean_absolute_error: 0.0159\n",
      ".Epoch 11/100\n",
      "160/160 [==============================] - 0s 98us/step - loss: 0.0027 - mean_absolute_error: 0.0159 - val_loss: 0.0027 - val_mean_absolute_error: 0.0159\n",
      ".Epoch 12/100\n",
      "160/160 [==============================] - 0s 106us/step - loss: 0.0027 - mean_absolute_error: 0.0159 - val_loss: 0.0027 - val_mean_absolute_error: 0.0158\n",
      ".Epoch 13/100\n",
      "160/160 [==============================] - 0s 100us/step - loss: 0.0027 - mean_absolute_error: 0.0158 - val_loss: 0.0027 - val_mean_absolute_error: 0.0158\n",
      ".Epoch 14/100\n",
      "160/160 [==============================] - 0s 109us/step - loss: 0.0027 - mean_absolute_error: 0.0158 - val_loss: 0.0027 - val_mean_absolute_error: 0.0157\n",
      ".Epoch 15/100\n",
      "160/160 [==============================] - 0s 106us/step - loss: 0.0027 - mean_absolute_error: 0.0157 - val_loss: 0.0026 - val_mean_absolute_error: 0.0157\n",
      ".Epoch 16/100\n",
      "160/160 [==============================] - 0s 146us/step - loss: 0.0026 - mean_absolute_error: 0.0156 - val_loss: 0.0026 - val_mean_absolute_error: 0.0156\n",
      ".Epoch 17/100\n",
      "160/160 [==============================] - 0s 65us/step - loss: 0.0026 - mean_absolute_error: 0.0155 - val_loss: 0.0026 - val_mean_absolute_error: 0.0155\n",
      ".Epoch 18/100\n",
      "160/160 [==============================] - 0s 119us/step - loss: 0.0026 - mean_absolute_error: 0.0154 - val_loss: 0.0026 - val_mean_absolute_error: 0.0153\n",
      ".Epoch 19/100\n",
      "160/160 [==============================] - 0s 137us/step - loss: 0.0026 - mean_absolute_error: 0.0152 - val_loss: 0.0026 - val_mean_absolute_error: 0.0151\n",
      ".Epoch 20/100\n",
      "160/160 [==============================] - 0s 72us/step - loss: 0.0026 - mean_absolute_error: 0.0150 - val_loss: 0.0026 - val_mean_absolute_error: 0.0149\n",
      ".Epoch 21/100\n",
      "160/160 [==============================] - 0s 129us/step - loss: 0.0025 - mean_absolute_error: 0.0148 - val_loss: 0.0025 - val_mean_absolute_error: 0.0146\n",
      ".Epoch 22/100\n",
      "160/160 [==============================] - 0s 114us/step - loss: 0.0025 - mean_absolute_error: 0.0145 - val_loss: 0.0025 - val_mean_absolute_error: 0.0142\n",
      ".Epoch 23/100\n",
      "160/160 [==============================] - 0s 69us/step - loss: 0.0025 - mean_absolute_error: 0.0141 - val_loss: 0.0025 - val_mean_absolute_error: 0.0138\n",
      ".Epoch 24/100\n",
      "160/160 [==============================] - 0s 140us/step - loss: 0.0024 - mean_absolute_error: 0.0136 - val_loss: 0.0024 - val_mean_absolute_error: 0.0133\n",
      ".Epoch 25/100\n",
      "160/160 [==============================] - 0s 114us/step - loss: 0.0024 - mean_absolute_error: 0.0130 - val_loss: 0.0024 - val_mean_absolute_error: 0.0126\n",
      ".Epoch 26/100\n",
      "160/160 [==============================] - 0s 66us/step - loss: 0.0024 - mean_absolute_error: 0.0124 - val_loss: 0.0023 - val_mean_absolute_error: 0.0119\n",
      ".Epoch 27/100\n",
      "160/160 [==============================] - 0s 100us/step - loss: 0.0023 - mean_absolute_error: 0.0116 - val_loss: 0.0023 - val_mean_absolute_error: 0.0112\n",
      ".Epoch 28/100\n",
      "160/160 [==============================] - 0s 59us/step - loss: 0.0023 - mean_absolute_error: 0.0109 - val_loss: 0.0022 - val_mean_absolute_error: 0.0104\n",
      ".Epoch 29/100\n",
      "160/160 [==============================] - 0s 53us/step - loss: 0.0022 - mean_absolute_error: 0.0100 - val_loss: 0.0022 - val_mean_absolute_error: 0.0095\n",
      ".Epoch 30/100\n",
      "160/160 [==============================] - 0s 90us/step - loss: 0.0022 - mean_absolute_error: 0.0092 - val_loss: 0.0021 - val_mean_absolute_error: 0.0087\n",
      ".Epoch 31/100\n",
      "160/160 [==============================] - 0s 97us/step - loss: 0.0021 - mean_absolute_error: 0.0085 - val_loss: 0.0021 - val_mean_absolute_error: 0.0080\n",
      ".Epoch 32/100\n",
      "160/160 [==============================] - 0s 55us/step - loss: 0.0021 - mean_absolute_error: 0.0078 - val_loss: 0.0020 - val_mean_absolute_error: 0.0075\n",
      ".Epoch 33/100\n",
      "160/160 [==============================] - 0s 121us/step - loss: 0.0020 - mean_absolute_error: 0.0073 - val_loss: 0.0020 - val_mean_absolute_error: 0.0071\n",
      ".Epoch 34/100\n",
      "160/160 [==============================] - 0s 74us/step - loss: 0.0020 - mean_absolute_error: 0.0070 - val_loss: 0.0020 - val_mean_absolute_error: 0.0069\n",
      ".Epoch 35/100\n",
      "160/160 [==============================] - 0s 84us/step - loss: 0.0019 - mean_absolute_error: 0.0069 - val_loss: 0.0019 - val_mean_absolute_error: 0.0068\n",
      ".Epoch 36/100\n",
      "160/160 [==============================] - 0s 88us/step - loss: 0.0019 - mean_absolute_error: 0.0068 - val_loss: 0.0018 - val_mean_absolute_error: 0.0067\n",
      ".Epoch 37/100\n",
      "160/160 [==============================] - 0s 74us/step - loss: 0.0018 - mean_absolute_error: 0.0066 - val_loss: 0.0018 - val_mean_absolute_error: 0.0065\n",
      ".Epoch 38/100\n",
      "160/160 [==============================] - 0s 82us/step - loss: 0.0017 - mean_absolute_error: 0.0064 - val_loss: 0.0017 - val_mean_absolute_error: 0.0063\n",
      ".Epoch 39/100\n",
      "160/160 [==============================] - 0s 52us/step - loss: 0.0016 - mean_absolute_error: 0.0061 - val_loss: 0.0016 - val_mean_absolute_error: 0.0059\n",
      ".Epoch 40/100\n",
      "160/160 [==============================] - 0s 89us/step - loss: 0.0016 - mean_absolute_error: 0.0057 - val_loss: 0.0015 - val_mean_absolute_error: 0.0054\n",
      ".Epoch 41/100\n",
      "160/160 [==============================] - 0s 44us/step - loss: 0.0015 - mean_absolute_error: 0.0052 - val_loss: 0.0014 - val_mean_absolute_error: 0.0050\n",
      ".Epoch 42/100\n",
      "160/160 [==============================] - 0s 108us/step - loss: 0.0013 - mean_absolute_error: 0.0048 - val_loss: 0.0013 - val_mean_absolute_error: 0.0045\n",
      ".Epoch 43/100\n",
      "160/160 [==============================] - 0s 94us/step - loss: 0.0012 - mean_absolute_error: 0.0043 - val_loss: 0.0012 - val_mean_absolute_error: 0.0040\n",
      ".Epoch 44/100\n",
      "160/160 [==============================] - 0s 91us/step - loss: 0.0011 - mean_absolute_error: 0.0038 - val_loss: 0.0010 - val_mean_absolute_error: 0.0036\n",
      ".Epoch 45/100\n",
      "160/160 [==============================] - 0s 102us/step - loss: 9.8825e-04 - mean_absolute_error: 0.0034 - val_loss: 9.1124e-04 - val_mean_absolute_error: 0.0031\n",
      ".Epoch 46/100\n",
      "160/160 [==============================] - 0s 173us/step - loss: 8.6003e-04 - mean_absolute_error: 0.0030 - val_loss: 7.8361e-04 - val_mean_absolute_error: 0.0027\n",
      ".Epoch 47/100\n",
      "160/160 [==============================] - 0s 123us/step - loss: 7.3350e-04 - mean_absolute_error: 0.0026 - val_loss: 6.5923e-04 - val_mean_absolute_error: 0.0024\n",
      ".Epoch 48/100\n",
      "160/160 [==============================] - 0s 153us/step - loss: 6.1120e-04 - mean_absolute_error: 0.0022 - val_loss: 5.4051e-04 - val_mean_absolute_error: 0.0020\n",
      ".Epoch 49/100\n"
     ]
    },
    {
     "name": "stdout",
     "output_type": "stream",
     "text": [
      "160/160 [==============================] - 0s 74us/step - loss: 4.9546e-04 - mean_absolute_error: 0.0019 - val_loss: 4.2967e-04 - val_mean_absolute_error: 0.0018\n",
      ".Epoch 50/100\n",
      "160/160 [==============================] - 0s 117us/step - loss: 3.8846e-04 - mean_absolute_error: 0.0017 - val_loss: 3.2885e-04 - val_mean_absolute_error: 0.0015\n",
      ".Epoch 51/100\n",
      "160/160 [==============================] - 0s 66us/step - loss: 2.9228e-04 - mean_absolute_error: 0.0014 - val_loss: 2.4003e-04 - val_mean_absolute_error: 0.0013\n",
      ".Epoch 52/100\n",
      "160/160 [==============================] - 0s 108us/step - loss: 2.0884e-04 - mean_absolute_error: 0.0012 - val_loss: 1.6496e-04 - val_mean_absolute_error: 0.0011\n",
      ".Epoch 53/100\n",
      "160/160 [==============================] - 0s 126us/step - loss: 1.3969e-04 - mean_absolute_error: 0.0010 - val_loss: 1.0485e-04 - val_mean_absolute_error: 8.8234e-04\n",
      ".Epoch 54/100\n",
      "160/160 [==============================] - 0s 87us/step - loss: 8.5733e-05 - mean_absolute_error: 8.0529e-04 - val_loss: 6.0105e-05 - val_mean_absolute_error: 6.9208e-04\n",
      ".Epoch 55/100\n",
      "160/160 [==============================] - 0s 105us/step - loss: 4.6951e-05 - mean_absolute_error: 6.2007e-04 - val_loss: 2.9985e-05 - val_mean_absolute_error: 5.1508e-04\n",
      ".Epoch 56/100\n",
      "160/160 [==============================] - 0s 130us/step - loss: 2.2062e-05 - mean_absolute_error: 4.4966e-04 - val_loss: 1.2382e-05 - val_mean_absolute_error: 3.5566e-04\n",
      ".Epoch 57/100\n",
      "160/160 [==============================] - 0s 83us/step - loss: 8.4310e-06 - mean_absolute_error: 2.9935e-04 - val_loss: 3.9550e-06 - val_mean_absolute_error: 2.2054e-04\n",
      ".Epoch 58/100\n",
      "160/160 [==============================] - 0s 88us/step - loss: 2.4447e-06 - mean_absolute_error: 1.7647e-04 - val_loss: 8.9756e-07 - val_mean_absolute_error: 1.1743e-04\n",
      ".Epoch 59/100\n",
      "160/160 [==============================] - 0s 108us/step - loss: 4.9494e-07 - mean_absolute_error: 8.7910e-05 - val_loss: 1.3122e-07 - val_mean_absolute_error: 5.1298e-05\n",
      ".Epoch 60/100\n",
      "160/160 [==============================] - 0s 67us/step - loss: 6.4196e-08 - mean_absolute_error: 4.1230e-05 - val_loss: 1.6477e-08 - val_mean_absolute_error: 6.7284e-05\n",
      ".Epoch 61/100\n",
      "160/160 [==============================] - 0s 102us/step - loss: 1.4954e-07 - mean_absolute_error: 2.6586e-04 - val_loss: 9.6595e-07 - val_mean_absolute_error: 8.0782e-04\n",
      ".Epoch 62/100\n",
      "160/160 [==============================] - 0s 51us/step - loss: 2.6655e-06 - mean_absolute_error: 0.0013 - val_loss: 3.4194e-06 - val_mean_absolute_error: 0.0015\n",
      ".Epoch 63/100\n",
      "160/160 [==============================] - 0s 119us/step - loss: 2.3304e-06 - mean_absolute_error: 0.0013 - val_loss: 1.2198e-06 - val_mean_absolute_error: 9.3854e-04\n",
      ".Epoch 64/100\n",
      "160/160 [==============================] - 0s 56us/step - loss: 1.0091e-06 - mean_absolute_error: 8.4810e-04 - val_loss: 8.4481e-07 - val_mean_absolute_error: 7.7421e-04\n",
      ".Epoch 65/100\n",
      "160/160 [==============================] - 0s 129us/step - loss: 8.3978e-07 - mean_absolute_error: 7.7142e-04 - val_loss: 9.1317e-07 - val_mean_absolute_error: 8.0269e-04\n",
      ".Epoch 66/100\n",
      "160/160 [==============================] - 0s 107us/step - loss: 1.1511e-06 - mean_absolute_error: 8.9332e-04 - val_loss: 1.6903e-06 - val_mean_absolute_error: 0.0011\n",
      ".Epoch 67/100\n",
      "160/160 [==============================] - 0s 100us/step - loss: 1.9468e-06 - mean_absolute_error: 0.0012 - val_loss: 1.8838e-06 - val_mean_absolute_error: 0.0011\n",
      ".Epoch 68/100\n",
      "160/160 [==============================] - 0s 75us/step - loss: 1.5267e-06 - mean_absolute_error: 0.0010 - val_loss: 1.0865e-06 - val_mean_absolute_error: 8.6968e-04\n",
      ".Epoch 69/100\n",
      "160/160 [==============================] - 0s 109us/step - loss: 9.9200e-07 - mean_absolute_error: 8.3136e-04 - val_loss: 9.9373e-07 - val_mean_absolute_error: 8.3360e-04\n",
      ".Epoch 70/100\n",
      "160/160 [==============================] - 0s 65us/step - loss: 1.1742e-06 - mean_absolute_error: 9.0560e-04 - val_loss: 1.5346e-06 - val_mean_absolute_error: 0.0010\n",
      ".Epoch 71/100\n",
      "160/160 [==============================] - 0s 110us/step - loss: 1.6723e-06 - mean_absolute_error: 0.0011 - val_loss: 1.6310e-06 - val_mean_absolute_error: 0.0011\n",
      ".Epoch 72/100\n",
      "160/160 [==============================] - 0s 47us/step - loss: 1.4410e-06 - mean_absolute_error: 0.0010 - val_loss: 1.2234e-06 - val_mean_absolute_error: 9.3091e-04\n",
      ".Epoch 73/100\n",
      "160/160 [==============================] - 0s 124us/step - loss: 1.2198e-06 - mean_absolute_error: 9.2410e-04 - val_loss: 1.3034e-06 - val_mean_absolute_error: 9.4656e-04\n",
      ".Epoch 74/100\n",
      "160/160 [==============================] - 0s 128us/step - loss: 1.3847e-06 - mean_absolute_error: 9.7225e-04 - val_loss: 1.4235e-06 - val_mean_absolute_error: 9.8554e-04\n",
      ".Epoch 75/100\n",
      "160/160 [==============================] - 0s 87us/step - loss: 1.3442e-06 - mean_absolute_error: 9.5936e-04 - val_loss: 1.2250e-06 - val_mean_absolute_error: 9.2002e-04\n",
      ".Epoch 76/100\n",
      "160/160 [==============================] - 0s 136us/step - loss: 1.2214e-06 - mean_absolute_error: 9.2240e-04 - val_loss: 1.3089e-06 - val_mean_absolute_error: 9.5970e-04\n",
      ".Epoch 77/100\n",
      "160/160 [==============================] - 0s 56us/step - loss: 1.4615e-06 - mean_absolute_error: 0.0010 - val_loss: 1.6118e-06 - val_mean_absolute_error: 0.0011\n",
      ".Epoch 78/100\n",
      "160/160 [==============================] - 0s 105us/step - loss: 1.4839e-06 - mean_absolute_error: 0.0010 - val_loss: 1.2532e-06 - val_mean_absolute_error: 9.4572e-04\n",
      ".Epoch 79/100\n",
      "160/160 [==============================] - 0s 118us/step - loss: 1.2090e-06 - mean_absolute_error: 9.2405e-04 - val_loss: 1.2616e-06 - val_mean_absolute_error: 9.3513e-04\n",
      ".Epoch 80/100\n",
      "160/160 [==============================] - 0s 49us/step - loss: 1.3774e-06 - mean_absolute_error: 9.7116e-04 - val_loss: 1.4926e-06 - val_mean_absolute_error: 0.0010\n",
      ".Epoch 81/100\n",
      "160/160 [==============================] - 0s 81us/step - loss: 1.4198e-06 - mean_absolute_error: 9.8457e-04 - val_loss: 1.2529e-06 - val_mean_absolute_error: 9.2781e-04\n",
      ".Epoch 82/100\n",
      "160/160 [==============================] - 0s 62us/step - loss: 1.1802e-06 - mean_absolute_error: 9.0332e-04 - val_loss: 1.1600e-06 - val_mean_absolute_error: 9.0071e-04\n",
      ".Epoch 83/100\n",
      "160/160 [==============================] - 0s 87us/step - loss: 1.2773e-06 - mean_absolute_error: 9.4687e-04 - val_loss: 1.5168e-06 - val_mean_absolute_error: 0.0010\n",
      ".Epoch 84/100\n",
      "160/160 [==============================] - 0s 85us/step - loss: 1.5552e-06 - mean_absolute_error: 0.0011 - val_loss: 1.4253e-06 - val_mean_absolute_error: 0.0010\n",
      ".Epoch 85/100\n",
      "160/160 [==============================] - 0s 123us/step - loss: 1.2883e-06 - mean_absolute_error: 9.5711e-04 - val_loss: 1.1834e-06 - val_mean_absolute_error: 9.1179e-04\n",
      ".Epoch 86/100\n",
      "160/160 [==============================] - 0s 44us/step - loss: 1.2504e-06 - mean_absolute_error: 9.3060e-04 - val_loss: 1.3958e-06 - val_mean_absolute_error: 9.7504e-04\n",
      ".Epoch 87/100\n",
      "160/160 [==============================] - 0s 127us/step - loss: 1.4273e-06 - mean_absolute_error: 9.8551e-04 - val_loss: 1.3609e-06 - val_mean_absolute_error: 9.6434e-04\n",
      ".Epoch 88/100\n",
      "160/160 [==============================] - 0s 56us/step - loss: 1.2532e-06 - mean_absolute_error: 9.2673e-04 - val_loss: 1.1376e-06 - val_mean_absolute_error: 8.8734e-04\n",
      ".Epoch 89/100\n",
      "160/160 [==============================] - 0s 87us/step - loss: 1.1680e-06 - mean_absolute_error: 9.0238e-04 - val_loss: 1.3109e-06 - val_mean_absolute_error: 9.6074e-04\n",
      ".Epoch 90/100\n",
      "160/160 [==============================] - 0s 119us/step - loss: 1.4652e-06 - mean_absolute_error: 0.0010 - val_loss: 1.5625e-06 - val_mean_absolute_error: 0.0011\n",
      ".Epoch 91/100\n",
      "160/160 [==============================] - 0s 52us/step - loss: 1.4195e-06 - mean_absolute_error: 0.0010 - val_loss: 1.2056e-06 - val_mean_absolute_error: 9.2494e-04\n",
      ".Epoch 92/100\n",
      "160/160 [==============================] - 0s 59us/step - loss: 1.1833e-06 - mean_absolute_error: 9.1136e-04 - val_loss: 1.2556e-06 - val_mean_absolute_error: 9.2978e-04\n",
      ".Epoch 93/100\n",
      "160/160 [==============================] - 0s 45us/step - loss: 1.3577e-06 - mean_absolute_error: 9.6198e-04 - val_loss: 1.4357e-06 - val_mean_absolute_error: 9.8765e-04\n",
      ".Epoch 94/100\n"
     ]
    },
    {
     "name": "stdout",
     "output_type": "stream",
     "text": [
      "160/160 [==============================] - 0s 123us/step - loss: 1.3517e-06 - mean_absolute_error: 9.5978e-04 - val_loss: 1.1936e-06 - val_mean_absolute_error: 9.0460e-04\n",
      ".Epoch 95/100\n",
      "160/160 [==============================] - 0s 48us/step - loss: 1.1413e-06 - mean_absolute_error: 8.8769e-04 - val_loss: 1.1513e-06 - val_mean_absolute_error: 8.9684e-04\n",
      ".Epoch 96/100\n",
      "160/160 [==============================] - 0s 135us/step - loss: 1.2804e-06 - mean_absolute_error: 9.4734e-04 - val_loss: 1.5130e-06 - val_mean_absolute_error: 0.0010\n",
      ".Epoch 97/100\n",
      "160/160 [==============================] - 0s 73us/step - loss: 1.5171e-06 - mean_absolute_error: 0.0010 - val_loss: 1.3551e-06 - val_mean_absolute_error: 9.8374e-04\n",
      ".Epoch 98/100\n",
      "160/160 [==============================] - 0s 124us/step - loss: 1.2288e-06 - mean_absolute_error: 9.3317e-04 - val_loss: 1.1499e-06 - val_mean_absolute_error: 8.9651e-04\n",
      ".Epoch 99/100\n",
      "160/160 [==============================] - 0s 100us/step - loss: 1.2309e-06 - mean_absolute_error: 9.2087e-04 - val_loss: 1.3815e-06 - val_mean_absolute_error: 9.6805e-04\n",
      ".Epoch 100/100\n",
      "160/160 [==============================] - 0s 92us/step - loss: 1.3967e-06 - mean_absolute_error: 9.7369e-04 - val_loss: 1.3101e-06 - val_mean_absolute_error: 9.4522e-04\n",
      "."
     ]
    }
   ],
   "source": [
    "# Display training progress by printing a single dot for each completed epoch\n",
    "class PrintDot(keras.callbacks.Callback):\n",
    "  def on_epoch_end(self, epoch, logs):\n",
    "    if epoch % 100 == 0: print('')\n",
    "    print('.', end='')\n",
    "EPOCHS = 100\n",
    "history = model.fit(train_in, train_out, epochs=EPOCHS,\n",
    "                    validation_split=0.2, verbose=1,\n",
    "                    callbacks=[PrintDot()])"
   ]
  },
  {
   "cell_type": "code",
   "execution_count": 25,
   "metadata": {},
   "outputs": [
    {
     "data": {
      "image/png": "[encoded data removed]",
      "text/plain": [
       "<Figure size 432x288 with 1 Axes>"
      ]
     },
     "metadata": {
      "needs_background": "light"
     },
     "output_type": "display_data"
    }
   ],
   "source": [
    "import matplotlib.pyplot as plt\n",
    "\n",
    "\n",
    "def plot_history(history):\n",
    "  plt.figure()\n",
    "  plt.xlabel('Epoch')\n",
    "  plt.ylabel('Mean Abs Error')\n",
    "  plt.plot(history.epoch, np.array(history.history['mean_absolute_error']),\n",
    "           label='Train Loss')\n",
    "  plt.plot(history.epoch, np.array(history.history['val_mean_absolute_error']),\n",
    "           label = 'Val loss')\n",
    "  plt.legend()\n",
    "  #plt.ylim([0, 5])\n",
    "\n",
    "plot_history(history)"
   ]
  },
  {
   "cell_type": "code",
   "execution_count": null,
   "metadata": {},
   "outputs": [],
   "source": [
    "# Generate and check against new test data:\n",
    "Mt_max = 2 # Max true multiplicity 2\n",
    "events_t = np.zeros((N_events,Mt_max))\n",
    "Eg_gaussian_centroids = np.array([500,1700,1300,1000])\n",
    "# Simulate pileup\n",
    "pileup = True\n",
    "p_pile = 1\n",
    "Mf_max = 1\n",
    "events_f = np.zeros((N_events, Mf_max))\n",
    "for i_ev in range(N_events):\n",
    "    # Mt_curr = np.random.randint(low=1,high=(Mt_max+1))\n",
    "    Mt_curr = Mt_max # Testing, comparison to the first test we did with 2 gammas for the report\n",
    "    # Egs_current = np.random.uniform(low=0, high=Emax, size=Mt_curr)\n",
    "    Egs_current = np.random.normal(loc=Eg_gaussian_centroids[0:Mt_curr], scale=0.5*np.sqrt(Eg_gaussian_centroids[0:Mt_curr]), size=Mt_curr)\n",
    "    events_t[i_ev,0:Mt_curr] = Egs_current \n",
    "    Egs_folded = FoldEg(events_t[i_ev,:], Mf_max=4, Eg_arr=E_resp_array, response=R_2D, pileup=pileup, p_pile=p_pile)\n",
    "    events_f[i_ev,0:len(Egs_folded)] = Egs_folded  \n",
    "\n",
    "    \n",
    "# Sort:\n",
    "counts_true = np.zeros((N_nn,N_nn))\n",
    "counts_folded = np.zeros((N_nn))\n",
    "\n"
   ]
  }
 ],
 "metadata": {
  "kernelspec": {
   "display_name": "Python 3",
   "language": "python",
   "name": "python3"
  },
  "language_info": {
   "codemirror_mode": {
    "name": "ipython",
    "version": 3
   },
   "file_extension": ".py",
   "mimetype": "text/x-python",
   "name": "python",
   "nbconvert_exporter": "python",
   "pygments_lexer": "ipython3",
   "version": "3.6.6"
  }
 },
 "nbformat": 4,
 "nbformat_minor": 2
}
