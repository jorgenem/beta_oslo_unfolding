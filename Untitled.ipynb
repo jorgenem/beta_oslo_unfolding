{
 "cells": [
  {
   "cell_type": "markdown",
   "metadata": {},
   "source": [
    "I am testing using a neural network to recognise patterns in the pileup spectra, so that we can revert from a piled-up 1-D spectrum to the underlying 2-D spectrum. First I simulate pairs of piled, original spectra, then I make the network."
   ]
  },
  {
   "cell_type": "code",
   "execution_count": 21,
   "metadata": {},
   "outputs": [],
   "source": [
    "from importlib import reload\n",
    "from utilities import *\n",
    "import numpy as np\n",
    "import matplotlib.pyplot as plt\n",
    "from matplotlib.colors import LogNorm"
   ]
  },
  {
   "cell_type": "markdown",
   "metadata": {},
   "source": [
    "# Simulate spectra. \n",
    "Assume only multiplicity 2, and set the pileup probability to 1 for this test. \n",
    "Later we must check how an energy-dependent pileup probability affects things."
   ]
  },
  {
   "cell_type": "code",
   "execution_count": 22,
   "metadata": {},
   "outputs": [],
   "source": [
    "# Set some global variables:\n",
    "N_events = int(30*1e3)\n",
    "customLogNorm = LogNorm(vmin=1e0, vmax=N_events)\n",
    "np.random.seed(124356)"
   ]
  },
  {
   "cell_type": "code",
   "execution_count": 8,
   "metadata": {},
   "outputs": [],
   "source": [
    "# Import response matrix\n",
    "\n",
    "fname_resp = 'resp-SuN2015-20keV-1p0FWHM.dat'\n",
    "fname_resp_mat = 'response_matrix-SuN2015-20keV-1p0FWHM.m'\n",
    "# fname_resp = 'resp-SuN2015-50keV-1p0FWHM.dat'\n",
    "# fname_resp_mat = 'response_matrix-SuN2015-50keV-1p0FWHM.m'\n",
    "R_2D, cal_resp, E_resp_array, tmp = read_mama_2D(fname_resp_mat)\n",
    "# R_2D = div0(R_2D , R_2D.sum(rebin_axis=1))\n",
    "\n",
    "# Read efficiency and other 1-D response variables:\n",
    "resp = []\n",
    "with open(fname_resp) as file:\n",
    "    # Read line by line as there is crazyness in the file format\n",
    "    lines = file.readlines()\n",
    "    for i in range(4,len(lines)):\n",
    "        try:\n",
    "            row = np.array(lines[i].split(), dtype=\"double\")\n",
    "            resp.append(row)\n",
    "        except:\n",
    "            break\n",
    "\n",
    "resp = np.array(resp)\n",
    "# Name the columns for ease of reading\n",
    "# FWHM = resp[:,1]\n",
    "eff = resp[:,2]\n",
    "# pf = resp[:,3]\n",
    "# pc = resp[:,4]\n",
    "# ps = resp[:,5]\n",
    "# pd = resp[:,6]\n",
    "# pa = resp[:,7]\n",
    "\n",
    "\n",
    "\n",
    "Emax = 4000 # Crop response matrix (and thus also event generation) to efficiate computation\n",
    "i_Emax = np.argmin(np.abs(E_resp_array-Emax))\n",
    "R_2D = R_2D[0:i_Emax,0:i_Emax]\n",
    "E_resp_array = E_resp_array[0:i_Emax]\n",
    "\n",
    "\n",
    "\n",
    "# Assumed lower threshold for gammas in response matrix\n",
    "E_thres = 100\n",
    "i_thres = np.argmin(np.abs(E_resp_array - E_thres))\n",
    "R_2D[:,:i_thres] = 0\n",
    "\n",
    "for i in range(R_2D.shape[0]):\n",
    "    norm = R_2D[i,:].sum()\n",
    "    if(norm>0):\n",
    "        R_2D[i,:] = R_2D[i,:] / norm #* eff[i]\n",
    "    else:\n",
    "        R_2D[i,:] = 0"
   ]
  },
  {
   "cell_type": "code",
   "execution_count": 9,
   "metadata": {},
   "outputs": [],
   "source": [
    "# === Folding function for a single event ===\n",
    "def FoldEg(Egs_t, Mf_max, Eg_arr, response, pileup=True, p_pile=0.2):\n",
    "    \"\"\"\n",
    "    This function folds all Egs from a single event.\n",
    "    \"\"\"\n",
    "\n",
    "    \n",
    "    # print(\"Folding. True gammas =\", Egs_t, flush=True)\n",
    "    Mt_curr = len(Egs_t[Egs_t>0]) # Number of true gammas\n",
    "\n",
    "    \n",
    "    Mf_curr = Mt_curr # Folded multiplicity is the same as true because we do pileup after energy folding\n",
    "\n",
    "    # Now proceed to fold each gamma with detector response:\n",
    "    Egs_folded = np.zeros(Mf_curr)\n",
    "    for i in range(Mf_curr):\n",
    "        Eg = Egs_t[i]\n",
    "        index_Eg = np.argmin(np.abs(Eg_arr - Eg))\n",
    "        if R_2D[index_Eg,:].sum() > 0:\n",
    "            # choosing rand accounts for the efficiency; As the efficiency read from file currently\n",
    "            # does not always correspons with the counts in R_2D, see #3, we need two if tests\n",
    "            rand = np.random.uniform()\n",
    "            if rand <= eff[index_Eg]:\n",
    "                # If the gamma is not lost to efficiency, redistribute its energy somewhere in the response:\n",
    "                Eg_folded = np.random.choice(Eg_arr, p=response[index_Eg,:])\n",
    "            else: \n",
    "                Eg_folded = 0 # Give Energy 0 to events that are not recorded.\n",
    "        else: \n",
    "            Eg_folded = 0 # Give Energy 0 to events that are not recorded (below detector threshold)\n",
    "\n",
    "        Egs_folded[i] = Eg_folded\n",
    "\n",
    "\n",
    "    if pileup: # Is pileup desired?\n",
    "        # For each folded gamma, assign it to pileup with probability p_pile:\n",
    "        indices_pile = [] # Store indices in Egs_folded\n",
    "        counter_nopile = 0\n",
    "        map_to_pileup = {} # Map the indices that are *not* pileup to a new index set so that there are no index holes\n",
    "                        # For example if Mt = 3 and index 1 is pileup, then map_nopile = {0:0, 2:1}.\n",
    "                        # Then we decide which of the new indices to add each pileup event to.\n",
    "        for i_t in range(Mt_curr):\n",
    "            # Make sure at least one gamma is not assigned to pileup:\n",
    "            if i_t == Mt_curr-1 and counter_nopile == 0:\n",
    "                map_to_pileup[i_t] = counter_nopile\n",
    "                counter_nopile += 1\n",
    "                break\n",
    "\n",
    "            # Also make sure no more than 4 gammas remain, by\n",
    "            # setting pileup probability to 1 if we already have 4 non-piled\n",
    "            if counter_nopile == 4:\n",
    "                p_pile = 1\n",
    "\n",
    "            r_pile = np.random.uniform()\n",
    "            if r_pile < p_pile:\n",
    "                # This gamma should be piled.\n",
    "                indices_pile.append(i_t)\n",
    "            else:\n",
    "                # This gamma should not\n",
    "                map_to_pileup[i_t] = counter_nopile\n",
    "                counter_nopile += 1\n",
    "\n",
    "        # Calculate multiplicity of current event after pileup:\n",
    "        Mf_curr = Mt_curr - len(indices_pile)\n",
    "\n",
    "        # Decide mapping of pileup gammas:\n",
    "        for i_t in indices_pile:\n",
    "            map_to_pileup[i_t] = np.random.randint(0,Mf_curr) if Mf_curr > 0 else 0\n",
    "\n",
    "        Egs_piled = np.zeros(Mf_curr)\n",
    "        for i_t in range(Mt_curr):\n",
    "            Egs_piled[map_to_pileup[i_t]] += Egs_folded[i_t]\n",
    "\n",
    "    else:\n",
    "        # Do not include pileup:\n",
    "        Egs_piled = Egs_folded\n",
    "        # Mf_curr = Mt_curr\n",
    "\n",
    "    # print(\"Piled gammas =\", Egs_piled, flush=True)\n",
    "\n",
    "    return Egs_piled"
   ]
  },
  {
   "cell_type": "markdown",
   "metadata": {},
   "source": [
    "# Proof of principle, a single realization:\n",
    "Generate true events and plot them:"
   ]
  },
  {
   "cell_type": "code",
   "execution_count": 27,
   "metadata": {},
   "outputs": [],
   "source": [
    "Mt_max = 2 # Max true multiplicity 2\n",
    "events_t = np.zeros((N_events,Mt_max))\n",
    "Eg_gaussian_centroids = np.array([500,1700,1300,1000])\n",
    "for i_ev in range(N_events):\n",
    "    # Mt_curr = np.random.randint(low=1,high=(Mt_max+1))\n",
    "    Mt_curr = Mt_max # Testing, comparison to the first test we did with 2 gammas for the report\n",
    "    # Egs_current = np.random.uniform(low=0, high=Emax, size=Mt_curr)\n",
    "    Egs_current = np.random.normal(loc=Eg_gaussian_centroids[0:Mt_curr], scale=0.5*np.sqrt(Eg_gaussian_centroids[0:Mt_curr]), size=Mt_curr)\n",
    "    events_t[i_ev,0:Mt_curr] = Egs_current   \n"
   ]
  },
  {
   "cell_type": "code",
   "execution_count": 50,
   "metadata": {},
   "outputs": [
    {
     "data": {
      "image/png": "[encoded data removed]",
      "text/plain": [
       "<Figure size 432x288 with 2 Axes>"
      ]
     },
     "metadata": {
      "needs_background": "light"
     },
     "output_type": "display_data"
    }
   ],
   "source": [
    "# == Sort and plot true events ==\n",
    "E_t_array = E_resp_array\n",
    "N_Eg = len(E_t_array)\n",
    "counts_true = np.zeros((N_Eg, N_Eg))\n",
    "\n",
    "# Sort data:\n",
    "for i_ev in range(N_events):\n",
    "    counts_true[np.argmin(np.abs(E_t_array-events_t[i_ev,0])),np.argmin(np.abs(E_t_array-events_t[i_ev,1]))] += 1\n",
    "\n",
    "# Plot by Eg axes\n",
    "cbar = plt.pcolormesh(E_t_array, E_t_array, counts_true, cmap=\"jet\", norm=customLogNorm)\n",
    "plt.colorbar(cbar)\n",
    "plt.show()"
   ]
  },
  {
   "cell_type": "code",
   "execution_count": 51,
   "metadata": {},
   "outputs": [],
   "source": [
    "# Simulate pileup\n",
    "pileup = True\n",
    "p_pile = 1\n",
    "Mf_max = 1\n",
    "events_f = np.zeros((N_events, Mf_max))\n",
    "for i_ev in range(N_events):\n",
    "    Egs_folded = FoldEg(events_t[i_ev,:], Mf_max=4, Eg_arr=E_resp_array, response=R_2D, pileup=pileup, p_pile=p_pile)\n",
    "    events_f[i_ev,0:len(Egs_folded)] = Egs_folded"
   ]
  },
  {
   "cell_type": "code",
   "execution_count": 52,
   "metadata": {},
   "outputs": [
    {
     "data": {
      "image/png": "[encoded data removed]",
      "text/plain": [
       "<Figure size 432x288 with 1 Axes>"
      ]
     },
     "metadata": {
      "needs_background": "light"
     },
     "output_type": "display_data"
    }
   ],
   "source": [
    "# Sort and plot piled events (1-D spectrum since p_pile = 1)\n",
    "E_f_array = E_resp_array\n",
    "N_Eg = len(E_f_array)\n",
    "counts_folded = np.zeros((N_Eg))\n",
    "\n",
    "# Sort data:\n",
    "for i_ev in range(N_events):\n",
    "    counts_folded[np.argmin(np.abs(E_f_array-events_f[i_ev,0]))] += 1\n",
    "\n",
    "# Plot by Eg axes\n",
    "cbar = plt.plot(E_t_array, counts_folded)\n",
    "plt.show()"
   ]
  },
  {
   "cell_type": "markdown",
   "metadata": {},
   "source": [
    "# It works, now generate an ensemble of spectra"
   ]
  },
  {
   "cell_type": "code",
   "execution_count": 61,
   "metadata": {},
   "outputs": [
    {
     "name": "stdout",
     "output_type": "stream",
     "text": [
      "memory required to store events: 0.92 MB\n"
     ]
    },
    {
     "data": {
      "image/png": "[encoded data removed]",
      "text/plain": [
       "<Figure size 432x288 with 2 Axes>"
      ]
     },
     "metadata": {
      "needs_background": "light"
     },
     "output_type": "display_data"
    }
   ],
   "source": [
    "# Generate true events:\n",
    "N_ensemble = 2\n",
    "N_events = int(30*1e3) # Events per ensemble\n",
    "Mt_max = 2 # Max true multiplicity 2\n",
    "\n",
    "# Set calibration to use, should not be too large because of neural network\n",
    "a0, a1 = 0, 100 # keV\n",
    "Nbins_nn = (Emax/a1 \n",
    "Eg_array_nn = np.\n",
    "\n",
    "memory_requirement = N_ensemble*N_events*Mt_max*8 / (1024)**2 # MB\n",
    "print(\"memory required to store events: {:.2f} MB\".format(memory_requirement), flush=True)\n",
    "\n",
    "ensemble_list_true = []\n",
    "for i_ens in range(N_ensemble):\n",
    "    events_t = np.zeros((N_events,Mt_max))\n",
    "    # Draw gaussian centroids randomly up to half of the maximum response array energy\n",
    "    Eg_gaussian_centroids = np.random.uniform(low=300, high=E_resp_array[-1]/2, size=Mt_max)\n",
    "    for i_ev in range(N_events):\n",
    "        # Mt_curr = np.random.randint(low=1,high=(Mt_max+1))\n",
    "        Mt_curr = Mt_max # Testing, comparison to the first test we did with 2 gammas for the report\n",
    "        # Egs_current = np.random.uniform(low=0, high=Emax, size=Mt_curr)\n",
    "        Egs_current = np.random.normal(loc=Eg_gaussian_centroids[0:Mt_curr], scale=0.5*np.sqrt(Eg_gaussian_centroids[0:Mt_curr]), size=Mt_curr)\n",
    "        events_t[i_ev,0:Mt_curr] = Egs_current   \n",
    "    ensemble_list_true.append(events_t)\n",
    "\n",
    "    \n",
    "    \n",
    "    \n",
    "# Sort each ensemble member and plot a random member:\n",
    "E_t_array = E_resp_array\n",
    "N_Eg = len(E_t_array)\n",
    "index = np.random.randint(0,N_ensemble-1)\n",
    "\n",
    "# Sort data:\n",
    "events_t = ensemble_list_true[index]\n",
    "for i_ev in range(N_events):\n",
    "    counts_true = np.zeros((N_Eg, N_Eg))\n",
    "    counts_true[np.argmin(np.abs(E_t_array-events_t[i_ev,0])),np.argmin(np.abs(E_t_array-events_t[i_ev,1]))] += 1\n",
    "\n",
    "# Plot by Eg axes\n",
    "cbar = plt.pcolormesh(E_t_array, E_t_array, counts_true, cmap=\"jet\", norm=customLogNorm)\n",
    "plt.colorbar(cbar)\n",
    "plt.title(\"Ensemble member \"+str(index))\n",
    "plt.show()"
   ]
  },
  {
   "cell_type": "code",
   "execution_count": 62,
   "metadata": {},
   "outputs": [
    {
     "data": {
      "image/png": "[encoded data removed]",
      "text/plain": [
       "<Figure size 432x288 with 1 Axes>"
      ]
     },
     "metadata": {
      "needs_background": "light"
     },
     "output_type": "display_data"
    }
   ],
   "source": [
    "# Simulate pileup for each member:\n",
    "pileup = True\n",
    "p_pile = 1\n",
    "Mf_max = 1\n",
    "\n",
    "ensemble_list_folded = []\n",
    "for i_ens in range(N_ensemble):\n",
    "    events_f = np.zeros((N_events, Mf_max))\n",
    "    for i_ev in range(N_events):\n",
    "        Egs_folded = FoldEg(events_t[i_ev,:], Mf_max=4, Eg_arr=E_resp_array, response=R_2D, pileup=pileup, p_pile=p_pile)\n",
    "        events_f[i_ev,0:len(Egs_folded)] = Egs_folded\n",
    "    ensemble_list_folded.append(events_f)\n",
    "    \n",
    "    \n",
    "    \n",
    "# Sort and plot same random ensemble member as above:\n",
    "E_f_array = E_resp_array\n",
    "N_Eg = len(E_f_array)\n",
    "counts_folded = np.zeros((N_Eg))\n",
    "\n",
    "# Sort data:\n",
    "events_f = ensemble_list_folded[index]\n",
    "for i_ev in range(N_events):\n",
    "    counts_folded[np.argmin(np.abs(E_f_array-events_f[i_ev,0]))] += 1\n",
    "\n",
    "# Plot by Eg axes\n",
    "plt.plot(E_f_array, counts_folded)\n",
    "plt.title(\"Ensemble member \"+str(index))\n",
    "plt.show()"
   ]
  },
  {
   "cell_type": "markdown",
   "metadata": {},
   "source": [
    "# Set up the neural network\n",
    "\n",
    "I try to adapt something from the TensorFlow tutorial: "
   ]
  },
  {
   "cell_type": "code",
   "execution_count": 63,
   "metadata": {},
   "outputs": [
    {
     "name": "stderr",
     "output_type": "stream",
     "text": [
      "/usr/lib/python3.6/importlib/_bootstrap.py:219: RuntimeWarning: numpy.dtype size changed, may indicate binary incompatibility. Expected 96, got 88\n",
      "  return f(*args, **kwds)\n"
     ]
    }
   ],
   "source": [
    "import tensorflow as tf\n",
    "from tensorflow import keras\n",
    "\n",
    "model = keras.Sequential([\n",
    "    keras.layers.Dense(64, activation=tf.nn.relu,\n",
    "                       input_shape=(train_data.shape[1],)),\n",
    "    keras.layers.Dense(64, activation=tf.nn.relu),\n",
    "    keras.layers.Dense(1)\n",
    "  ])"
   ]
  },
  {
   "cell_type": "code",
   "execution_count": null,
   "metadata": {},
   "outputs": [],
   "source": []
  }
 ],
 "metadata": {
  "kernelspec": {
   "display_name": "Python 3",
   "language": "python",
   "name": "python3"
  },
  "language_info": {
   "codemirror_mode": {
    "name": "ipython",
    "version": 3
   },
   "file_extension": ".py",
   "mimetype": "text/x-python",
   "name": "python",
   "nbconvert_exporter": "python",
   "pygments_lexer": "ipython3",
   "version": "3.6.6"
  }
 },
 "nbformat": 4,
 "nbformat_minor": 2
}
